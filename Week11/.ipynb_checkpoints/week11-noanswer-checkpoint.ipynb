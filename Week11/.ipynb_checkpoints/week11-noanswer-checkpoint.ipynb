{
 "cells": [
  {
   "cell_type": "markdown",
   "metadata": {},
   "source": [
    "# week 11: Recurrent neural network"
   ]
  },
  {
   "cell_type": "markdown",
   "metadata": {},
   "source": [
    "## 0. Introduction"
   ]
  },
  {
   "cell_type": "markdown",
   "metadata": {},
   "source": [
    "本次实验设计主要修改自Pytorch官方提供的教程，在官方的教程上进行了整合。如对本次课件的内容有任何疑惑的同学可以直接微信我或者邮件到cuizhiying.csu@gmail.com    \n",
    "**原作者**: `Sean Robertson <https://github.com/spro/practical-"
   ]
  },
  {
   "cell_type": "markdown",
   "metadata": {},
   "source": [
    "### 0.1 Experimental content and requirements\n",
    "本次实验内容主要分为词语分类和词语生成两大部分，具体要求如下：\n",
    "1. 体验语义分割网络的运行过程，和基本的代码结构，结合理论课的内容，加深对RNN的思考和理解\n",
    "2. 独立完成实验指导书中提出的问题（简要回答）\n",
    "3. 按照实验指导书的引导，填充缺失部分的代码，让程序顺利地运转起来\n",
    "4. 坚持独立完成，**禁止抄袭**\n",
    "5. 实验结束后，将整个文件夹下载下来（注意保留程序运行结果），打包上传到超算课堂网站中（统一使用zip格式压缩）。\n"
   ]
  },
  {
   "cell_type": "markdown",
   "metadata": {},
   "source": [
    "\n",
    "### 0.2 Recommended Reading\n",
    "\n",
    "These are all good additions to the understanding of RNN.:\n",
    "\n",
    "-  [The Unreasonable Effectiveness of Recurrent Neural\n",
    "   Networks](https://karpathy.github.io/2015/05/21/rnn-effectiveness/)\n",
    "   shows a bunch of real life examples\n",
    "-  [Understanding LSTM\n",
    "   Networks](https://colah.github.io/posts/2015-08-Understanding-LSTMs/)\n",
    "   is about LSTMs specifically but also informative about RNNs in\n",
    "   general"
   ]
  },
  {
   "cell_type": "markdown",
   "metadata": {},
   "source": [
    "\n",
    "## 1. Classifying Names with a Character-Level RNN\n",
    "*********************************************\n",
    "We will be building and training a basic character-level RNN to classify\n",
    "words. A character-level RNN reads words as a series of characters -\n",
    "outputting a prediction and \"hidden state\" at each step, feeding its\n",
    "previous hidden state into each next step. We take the final prediction\n",
    "to be the output, i.e. which class the word belongs to.\n",
    "\n",
    "Specifically, we'll train on a few thousand surnames from 18 languages\n",
    "of origin, and predict which language a name is from based on the\n",
    "spelling:\n",
    "\n",
    "\n",
    "\n",
    "\n",
    "### 1.1 Preparing the Data\n",
    "\n",
    "Download the data from [here](https://download.pytorch.org/tutorial/data.zip) and extract it to the current directory.\n",
    "\n",
    "Included in the ``data/names`` directory are 18 text files named as\n",
    "\"[Language].txt\". Each file contains a bunch of names, one name per\n",
    "line, mostly romanized (but we still need to convert from Unicode to\n",
    "ASCII).\n",
    "\n",
    "We'll end up with a dictionary of lists of names per language,\n",
    "``{language: [names ...]}``. The generic variables \"category\" and \"line\"\n",
    "(for language and name in our case) are used for later extensibility.\n",
    "\n"
   ]
  },
  {
   "cell_type": "code",
   "execution_count": 2,
   "metadata": {},
   "outputs": [
    {
     "name": "stdout",
     "output_type": "stream",
     "text": [
      "['data/names/Russian.txt', 'data/names/Portuguese.txt', 'data/names/German.txt', 'data/names/Polish.txt', 'data/names/French.txt', 'data/names/Spanish.txt', 'data/names/Chinese.txt', 'data/names/Czech.txt', 'data/names/Greek.txt', 'data/names/Scottish.txt', 'data/names/Dutch.txt', 'data/names/Arabic.txt', 'data/names/Japanese.txt', 'data/names/Vietnamese.txt', 'data/names/Korean.txt', 'data/names/Irish.txt', 'data/names/English.txt', 'data/names/Italian.txt']\n",
      "Slusarski\n",
      "18\n"
     ]
    }
   ],
   "source": [
    "from __future__ import unicode_literals, print_function, division\n",
    "from io import open\n",
    "import glob\n",
    "import os\n",
    "\n",
    "def findFiles(path): return glob.glob(path)\n",
    "\n",
    "print(findFiles('data/names/*.txt'))\n",
    "\n",
    "import unicodedata\n",
    "import string\n",
    "\n",
    "all_letters = string.ascii_letters + \" .,;'\"\n",
    "n_letters = len(all_letters)\n",
    "\n",
    "# Turn a Unicode string to plain ASCII, thanks to https://stackoverflow.com/a/518232/2809427\n",
    "def unicodeToAscii(s):\n",
    "    return ''.join(\n",
    "        c for c in unicodedata.normalize('NFD', s)\n",
    "        if unicodedata.category(c) != 'Mn'\n",
    "        and c in all_letters\n",
    "    )\n",
    "\n",
    "print(unicodeToAscii('Ślusàrski'))\n",
    "\n",
    "# Build the category_lines dictionary, a list of names per language\n",
    "all_categories = []\n",
    "category_lines = {}\n",
    "\n",
    "# Split it into training set and validation set\n",
    "training_lines = {}\n",
    "validation_lines = {}\n",
    "\n",
    "# Read a file and split into lines\n",
    "def readLines(filename):\n",
    "    lines = open(filename, encoding='utf-8').read().strip().split('\\n')\n",
    "    return [unicodeToAscii(line) for line in lines]\n",
    "\n",
    "for filename in findFiles('data/names/*.txt'):\n",
    "    category = os.path.splitext(os.path.basename(filename))[0]\n",
    "    all_categories.append(category)\n",
    "    lines = readLines(filename)\n",
    "    category_lines[category] = lines\n",
    "    \n",
    "    num_of_training_set = int(len(lines)*0.8)\n",
    "    training_lines[category]   = lines[:num_of_training_set]\n",
    "    validation_lines[category] = lines[num_of_training_set:] \n",
    "\n",
    "n_categories = len(all_categories)\n",
    "print(n_categories)"
   ]
  },
  {
   "cell_type": "markdown",
   "metadata": {},
   "source": [
    "Now we have ``category_lines``, a dictionary mapping each category\n",
    "(language) to a list of lines (names). We also kept track of\n",
    "``all_categories`` (just a list of languages) and ``n_categories`` for\n",
    "later reference.\n",
    "\n",
    "\n"
   ]
  },
  {
   "cell_type": "code",
   "execution_count": 3,
   "metadata": {},
   "outputs": [
    {
     "name": "stdout",
     "output_type": "stream",
     "text": [
      "['Abandonato', 'Abatangelo', 'Abatantuono', 'Abate', 'Abategiovanni']\n"
     ]
    }
   ],
   "source": [
    "print(category_lines['Italian'][:5])"
   ]
  },
  {
   "cell_type": "markdown",
   "metadata": {},
   "source": [
    "### 1.2 Turning Names into Tensors\n",
    "\n",
    "\n",
    "Now that we have all the names organized, we need to turn them into\n",
    "Tensors to make any use of them.\n",
    "\n",
    "To represent a single letter, we use a \"one-hot vector\" of size\n",
    "``<1 x n_letters>``. A one-hot vector is filled with 0s except for a 1\n",
    "at index of the current letter, e.g. ``\"b\" = <0 1 0 0 0 ...>``.\n",
    "\n",
    "To make a word we join a bunch of those into a 2D matrix\n",
    "``<line_length x 1 x n_letters>``.\n",
    "\n",
    "That extra 1 dimension is because PyTorch assumes everything is in\n",
    "batches - we're just using a batch size of 1 here.\n",
    "\n",
    "\n"
   ]
  },
  {
   "cell_type": "code",
   "execution_count": 4,
   "metadata": {},
   "outputs": [
    {
     "name": "stdout",
     "output_type": "stream",
     "text": [
      "tensor([[ 0.,  0.,  0.,  0.,  0.,  0.,  0.,  0.,  0.,  0.,  0.,  0.,\n",
      "          0.,  0.,  0.,  0.,  0.,  0.,  0.,  0.,  0.,  0.,  0.,  0.,\n",
      "          0.,  0.,  0.,  0.,  0.,  0.,  0.,  0.,  0.,  0.,  0.,  1.,\n",
      "          0.,  0.,  0.,  0.,  0.,  0.,  0.,  0.,  0.,  0.,  0.,  0.,\n",
      "          0.,  0.,  0.,  0.,  0.,  0.,  0.,  0.,  0.]])\n",
      "torch.Size([5, 1, 57])\n"
     ]
    }
   ],
   "source": [
    "import torch\n",
    "\n",
    "# Find letter index from all_letters, e.g. \"a\" = 0\n",
    "def letterToIndex(letter):\n",
    "    return all_letters.find(letter)\n",
    "\n",
    "# Just for demonstration, turn a letter into a <1 x n_letters> Tensor\n",
    "def letterToTensor(letter):\n",
    "    tensor = torch.zeros(1, n_letters)\n",
    "    tensor[0][letterToIndex(letter)] = 1\n",
    "    return tensor\n",
    "\n",
    "# Turn a line into a <line_length x 1 x n_letters>,\n",
    "# or an array of one-hot letter vectors\n",
    "def lineToTensor(line):\n",
    "    tensor = torch.zeros(len(line), 1, n_letters)\n",
    "    for li, letter in enumerate(line):\n",
    "        tensor[li][0][letterToIndex(letter)] = 1\n",
    "    return tensor\n",
    "\n",
    "# Tensor here, someone else may call it vector. \n",
    "print(letterToTensor('J'))\n",
    "\n",
    "print(lineToTensor('Jones').size())"
   ]
  },
  {
   "cell_type": "markdown",
   "metadata": {},
   "source": [
    "### 1.3 Creating the Network\n",
    "\n",
    "\n",
    "Before autograd, creating a recurrent neural network in Torch involved\n",
    "cloning the parameters of a layer over several timesteps. The layers\n",
    "held hidden state and gradients which are now entirely handled by the\n",
    "graph itself. This means you can implement a RNN in a very \"pure\" way,\n",
    "as regular feed-forward layers.\n",
    "\n",
    "Inside the forward function, we need to Loop \n",
    "\n",
    "\n",
    "\n",
    "\n",
    "\n",
    "\n",
    "![figure](https://colah.github.io/posts/2015-08-Understanding-LSTMs/img/RNN-unrolled.png)\n",
    "\n",
    "\n",
    "\n",
    "\n"
   ]
  },
  {
   "cell_type": "code",
   "execution_count": 5,
   "metadata": {},
   "outputs": [],
   "source": [
    "import torch.nn as nn\n",
    "\n",
    "class BaseRNN(nn.Module):\n",
    "    def __init__(self, input_size, hidden_size, output_size):\n",
    "        super(BaseRNN, self).__init__()\n",
    "\n",
    "        self.hidden_size = hidden_size\n",
    "\n",
    "        # input to hidden\n",
    "        self.i2h = nn.Linear(input_size,  hidden_size)\n",
    "        # hidden to hidden\n",
    "        self.h2h = nn.Linear(hidden_size, hidden_size)\n",
    "        #############################################\n",
    "        #\n",
    "        #  Change your activation function here\n",
    "        #\n",
    "        #############################################\n",
    "        self.activation = nn.Tanh()\n",
    "        # hidden to output\n",
    "        self.h2o = nn.Linear(hidden_size, output_size)\n",
    "        \n",
    "    def step(self, letter, hidden):\n",
    "        i2h = self.i2h(letter)\n",
    "        h2h = self.h2h(hidden)\n",
    "        hidden = self.activation( h2h+i2h )\n",
    "        \n",
    "        output = self.h2o(hidden)\n",
    "        return output, hidden\n",
    "    \n",
    "    def forward(self, word):\n",
    "        hidden = self.initHidden()\n",
    "        for i in range(word.size()[0]):\n",
    "            # Only the last output will be used to predict\n",
    "            output, hidden = self.step(word[i], hidden)\n",
    "        return output\n",
    "    \n",
    "    def initHidden(self):\n",
    "        return torch.zeros(1, self.hidden_size)\n",
    "\n",
    "n_hidden = 128\n",
    "rnn = BaseRNN(n_letters, n_hidden, n_categories)"
   ]
  },
  {
   "cell_type": "code",
   "execution_count": 6,
   "metadata": {},
   "outputs": [],
   "source": [
    "###############################################################################\n",
    "#\n",
    "# Finish a the following model, and train it\n",
    "#\n",
    "###############################################################################\n",
    "\n",
    "class DeeperRNN(nn.Module):\n",
    "    def __init__(self, input_size, hidden_size, output_size):\n",
    "        super(DeeperRNN, self).__init__()\n",
    "        self.hidden1_size = hidden_size\n",
    "        self.hidden2_size = hidden_size\n",
    "        self.layer1 = BaseRNN(input_size, hidden_size, output_size)\n",
    "        self.layer2 = BaseRNN(hidden_size, hidden_size, output_size)\n",
    "        \n",
    "    def step(self, letter, hidden1, hidden2):\n",
    "        output1, hidden1 = self.layer1.step(letter, hidden1)\n",
    "        output2, hidden2 = self.layer2.step(hidden1, hidden2)\n",
    "        return output2, hidden1, hidden2\n",
    "    \n",
    "    def forward(self, word):\n",
    "        hidden1, hidden2 = self.initHidden()\n",
    "        for i in range(word.size()[0]):\n",
    "            output, hidden1, hidden2 = self.step(word[i], hidden1, hidden2)\n",
    "        return output\n",
    "        \n",
    "    def initHidden(self):\n",
    "        return torch.zeros(1, self.hidden1_size), torch.zeros(1, self.hidden2_size)\n",
    "\n",
    "###############################################################################\n",
    "\n",
    "# Remember to uncomment the following two line after you finish your model and\n",
    "# start to retrain your model\n",
    "\n",
    "###############################################################################\n",
    "#n_hidden = 128\n",
    "#rnn = DeeperRNN(n_letters, n_hidden, n_categories)"
   ]
  },
  {
   "cell_type": "markdown",
   "metadata": {},
   "source": [
    "To run a step of this network we need to pass an input (in our case, the\n",
    "Tensor for the current letter) and a previous hidden state (which we\n",
    "initialize as zeros at first). We'll get back the output (probability of\n",
    "each language) and a next hidden state (which we keep for the next\n",
    "step).\n",
    "\n",
    "\n"
   ]
  },
  {
   "cell_type": "code",
   "execution_count": 7,
   "metadata": {},
   "outputs": [],
   "source": [
    "input = letterToTensor('A')\n",
    "hidden =torch.zeros(1, n_hidden)\n",
    "\n",
    "output, next_hidden = rnn.step(input, hidden)"
   ]
  },
  {
   "cell_type": "markdown",
   "metadata": {},
   "source": [
    "For the sake of efficiency we don't want to be creating a new Tensor for\n",
    "every step, so we will use ``lineToTensor`` instead of\n",
    "``letterToTensor`` and use slices. This could be further optimized by\n",
    "pre-computing batches of Tensors.\n",
    "\n",
    "\n",
    "Each loop in side forward function will:\n",
    "\n",
    "-  Create input and target tensors\n",
    "-  Create a zeroed initial hidden state\n",
    "-  Read each letter in and\n",
    "\n",
    "   -  Keep hidden state for next letter\n",
    "\n",
    "-  Compare final output to target\n",
    "-  Back-propagate\n",
    "-  Return the output and loss"
   ]
  },
  {
   "cell_type": "code",
   "execution_count": 8,
   "metadata": {},
   "outputs": [
    {
     "name": "stdout",
     "output_type": "stream",
     "text": [
      "128\n",
      "tensor([[-0.0747,  0.0100,  0.1050, -0.0221, -0.0481,  0.1064, -0.0609,\n",
      "         -0.0667,  0.0222, -0.0690,  0.1237, -0.0483, -0.0435, -0.0121,\n",
      "          0.0487, -0.0404, -0.0072,  0.0750]])\n",
      "torch.Size([1, 18])\n"
     ]
    }
   ],
   "source": [
    "input = lineToTensor('Albert')\n",
    "print(n_hidden)\n",
    "\n",
    "output = rnn(input)\n",
    "print(output)\n",
    "print(output.shape)"
   ]
  },
  {
   "cell_type": "markdown",
   "metadata": {},
   "source": [
    "As you can see the output is a ``<1 x n_categories>`` Tensor, where\n",
    "every item is the likelihood of that category (higher is more likely).\n",
    "\n",
    "\n"
   ]
  },
  {
   "cell_type": "markdown",
   "metadata": {},
   "source": [
    "### 1.4 Training\n",
    "\n",
    "#### 1.4.1 Preparing for Training\n",
    "Before going into training we should make a few helper functions. The\n",
    "first is to interpret the output of the network, which we know to be a\n",
    "likelihood of each category. We can use ``Tensor.topk`` to get the index\n",
    "of the greatest value:\n",
    "\n",
    "\n"
   ]
  },
  {
   "cell_type": "code",
   "execution_count": 9,
   "metadata": {},
   "outputs": [
    {
     "name": "stdout",
     "output_type": "stream",
     "text": [
      "('Dutch', 10)\n"
     ]
    }
   ],
   "source": [
    "def categoryFromOutput(output):\n",
    "    top_n, top_i = output.topk(1)\n",
    "    category_i = top_i[0].item()\n",
    "    return all_categories[category_i], category_i\n",
    "\n",
    "print(categoryFromOutput(output))"
   ]
  },
  {
   "cell_type": "markdown",
   "metadata": {},
   "source": [
    "We will also want a quick way to get a training example (a name and its\n",
    "language):\n",
    "\n",
    "\n"
   ]
  },
  {
   "cell_type": "code",
   "execution_count": 10,
   "metadata": {},
   "outputs": [
    {
     "name": "stdout",
     "output_type": "stream",
     "text": [
      "category = Spanish / line = Bello\n",
      "category = English / line = Mawson\n",
      "category = Greek / line = Batsakis\n",
      "category = Italian / line = Ferrero\n",
      "category = Greek / line = Manoukarakis\n",
      "category = Italian / line = Faraldo\n",
      "category = Scottish / line = Paterson\n",
      "category = Czech / line = Matocha\n",
      "category = English / line = Rennalls\n",
      "category = Scottish / line = Scott\n"
     ]
    }
   ],
   "source": [
    "import random\n",
    "\n",
    "def randomChoice(l):\n",
    "    return l[random.randint(0, len(l) - 1)]\n",
    "\n",
    "def randomTrainingExample():\n",
    "    category = randomChoice(all_categories)\n",
    "    # attention: split training set \n",
    "    line = randomChoice(training_lines[category])\n",
    "    category_tensor = torch.tensor([all_categories.index(category)], dtype=torch.long)\n",
    "    line_tensor = lineToTensor(line)\n",
    "    return category, line, category_tensor, line_tensor\n",
    "\n",
    "def randomValidationExample():\n",
    "    category = randomChoice(all_categories)\n",
    "    # attention: split validation set\n",
    "    line = randomChoice(validation_lines[category])\n",
    "    category_tensor = torch.tensor([all_categories.index(category)], dtype=torch.long)\n",
    "    line_tensor = lineToTensor(line)\n",
    "    return category, line, category_tensor, line_tensor\n",
    "\n",
    "for i in range(10):\n",
    "    category, line, category_tensor, line_tensor = randomTrainingExample()\n",
    "    print('category =', category, '/ line =', line)"
   ]
  },
  {
   "cell_type": "markdown",
   "metadata": {},
   "source": [
    "#### 1.4.2 Training the Network\n",
    "\n",
    "Now all it takes to train this network is show it a bunch of examples,\n",
    "have it make guesses, and tell it if it's wrong.\n",
    "\n",
    "\n",
    "\n"
   ]
  },
  {
   "cell_type": "code",
   "execution_count": 11,
   "metadata": {},
   "outputs": [],
   "source": [
    "criterion = nn.CrossEntropyLoss()\n",
    "\n",
    "learning_rate = 0.005 # If you set this too high, it might explode. If too low, it might not learn\n",
    "\n",
    "def train(category_tensor, line_tensor):\n",
    "    output = rnn(line_tensor)\n",
    "    rnn.zero_grad()\n",
    "    loss = criterion(output, category_tensor)\n",
    "    loss.backward()\n",
    "\n",
    "    # Add parameters' gradients to their values, multiplied by learning rate\n",
    "    for p in rnn.parameters():\n",
    "        if hasattr(p.grad, \"data\"):\n",
    "            p.data.add_(-learning_rate, p.grad.data)\n",
    "\n",
    "    return output, loss.item()"
   ]
  },
  {
   "cell_type": "markdown",
   "metadata": {},
   "source": [
    "Now we just have to run that with a bunch of examples. Since the\n",
    "``train`` function returns both the output and loss we can print its\n",
    "guesses and also keep track of loss for plotting. Since there are 1000s\n",
    "of examples we print only every ``print_every`` examples, and take an\n",
    "average of the loss.\n",
    "\n",
    "\n"
   ]
  },
  {
   "cell_type": "code",
   "execution_count": 12,
   "metadata": {},
   "outputs": [
    {
     "name": "stdout",
     "output_type": "stream",
     "text": [
      "5000 2% (0m 6s) 2.1994 Colbert / French ✓\n",
      "10000 5% (0m 12s) 1.3307 Lam / Chinese ✗ (Vietnamese)\n",
      "15000 7% (0m 17s) 1.6428 Imran / English ✓\n",
      "20000 10% (0m 23s) 2.8702 Prill / Scottish ✗ (Czech)\n",
      "25000 12% (0m 29s) 0.6088 Shimakage / Japanese ✓\n",
      "30000 15% (0m 34s) 0.2379 O'Boyle / Irish ✓\n",
      "35000 17% (0m 41s) 0.6096 Costa / Portuguese ✓\n",
      "40000 20% (0m 47s) 1.4690 Jukodo / Japanese ✓\n",
      "45000 22% (0m 54s) 0.7791 Leeuwenhoek / Dutch ✓\n",
      "50000 25% (1m 0s) 0.7850 Reier / German ✓\n",
      "55000 27% (1m 6s) 0.4286 Bohler / German ✓\n",
      "60000 30% (1m 12s) 1.5882 Fonda / Portuguese ✗ (Italian)\n",
      "65000 32% (1m 19s) 1.5066 Desrosiers / Dutch ✗ (French)\n",
      "70000 35% (1m 26s) 0.0103 Hitarov / Russian ✓\n",
      "75000 37% (1m 32s) 0.2937 Gil / Korean ✓\n",
      "80000 40% (1m 39s) 0.0339 Si / Korean ✓\n",
      "85000 42% (1m 46s) 0.5733 Han / Vietnamese ✓\n",
      "90000 45% (1m 52s) 1.0649 Di mercurio / Spanish ✗ (Italian)\n",
      "95000 47% (1m 59s) 0.9309 Araujo / Spanish ✗ (Portuguese)\n",
      "100000 50% (2m 6s) 0.6132 Brannon / Irish ✓\n",
      "105000 52% (2m 13s) 0.0199 Nicodemo / Italian ✓\n",
      "110000 55% (2m 19s) 0.6811 Dempko / Czech ✓\n",
      "115000 57% (2m 25s) 0.0909 Antoun / Arabic ✓\n",
      "120000 60% (2m 32s) 0.8840 Huerta / Spanish ✓\n",
      "125000 62% (2m 38s) 0.4158 Comtois / French ✓\n",
      "130000 65% (2m 44s) 0.7661 Bartolomei / Italian ✓\n",
      "135000 67% (2m 51s) 0.3693 Atallahanov / Russian ✓\n",
      "140000 70% (2m 57s) 0.3085 Kvasnicka / Czech ✓\n",
      "145000 72% (3m 3s) 0.1325 Chung / Korean ✓\n",
      "150000 75% (3m 10s) 0.6075 Blumenthal / German ✓\n",
      "155000 77% (3m 17s) 0.0221 Lillis / Greek ✓\n",
      "160000 80% (3m 23s) 1.4909 Sai / Japanese ✗ (Vietnamese)\n",
      "165000 82% (3m 30s) 0.0557 Shinko / Japanese ✓\n",
      "170000 85% (3m 36s) 0.1346 Robert / Dutch ✓\n",
      "175000 87% (3m 43s) 1.9534 Chung / Vietnamese ✗ (Korean)\n",
      "180000 90% (3m 49s) 0.0512 Rafferty / English ✓\n",
      "185000 92% (3m 55s) 0.0231 Basara / Arabic ✓\n",
      "190000 95% (4m 1s) 2.4625 Hashaba / Japanese ✗ (Russian)\n",
      "195000 97% (4m 7s) 0.0065 Pokorny / Polish ✓\n",
      "200000 100% (4m 14s) 0.1602 Ron / Korean ✓\n"
     ]
    }
   ],
   "source": [
    "import time\n",
    "import math\n",
    "\n",
    "n_iters = 200000\n",
    "print_every = 5000\n",
    "plot_every = 1000\n",
    "\n",
    "# Keep track of losses for plotting\n",
    "current_loss = 0\n",
    "all_losses = []\n",
    "\n",
    "def timeSince(since):\n",
    "    now = time.time()\n",
    "    s = now - since\n",
    "    m = math.floor(s / 60)\n",
    "    s -= m * 60\n",
    "    return '%dm %ds' % (m, s)\n",
    "\n",
    "start = time.time()\n",
    "\n",
    "for iter in range(1, n_iters + 1):\n",
    "    category, line, category_tensor, line_tensor = randomTrainingExample()\n",
    "    output, loss = train(category_tensor, line_tensor)\n",
    "    current_loss += loss\n",
    "\n",
    "    # Print iter number, loss, name and guess\n",
    "    if iter % print_every == 0:\n",
    "        guess, guess_i = categoryFromOutput(output)\n",
    "        correct = '✓' if guess == category else '✗ (%s)' % category\n",
    "        print('%d %d%% (%s) %.4f %s / %s %s' % (iter, iter / n_iters * 100, timeSince(start), loss, line, guess, correct))\n",
    "\n",
    "    # Add current loss avg to list of losses\n",
    "    if iter % plot_every == 0:\n",
    "        all_losses.append(current_loss / plot_every)\n",
    "        current_loss = 0"
   ]
  },
  {
   "cell_type": "markdown",
   "metadata": {},
   "source": [
    "#### 1.4.3 Plotting the Results\n",
    "--------------------\n",
    "\n",
    "Plotting the historical loss from ``all_losses`` shows the network\n",
    "learning:\n",
    "\n",
    "\n"
   ]
  },
  {
   "cell_type": "code",
   "execution_count": 14,
   "metadata": {},
   "outputs": [
    {
     "data": {
      "image/png": "[encoded data removed]",
      "text/plain": [
       "<Figure size 432x288 with 1 Axes>"
      ]
     },
     "metadata": {},
     "output_type": "display_data"
    }
   ],
   "source": [
    "import matplotlib.pyplot as plt\n",
    "#################################################\n",
    "#\n",
    "# Tips: your could use plt.plot\n",
    "#\n",
    "#################################################\n",
    "import matplotlib.ticker as ticker\n",
    "\n",
    "plt.figure()\n",
    "plt.plot(all_losses)\n",
    "plt.show()"
   ]
  },
  {
   "cell_type": "markdown",
   "metadata": {},
   "source": [
    "### 1.5 Evaluating the Results\n",
    "\n",
    "To see how well the network performs on different categories, we will\n",
    "create a confusion matrix, indicating for every actual language (rows)\n",
    "which language the network guesses (columns). To calculate the confusion\n",
    "matrix a bunch of samples are run through the network with\n",
    "``evaluate()``, which is the same as ``train()`` minus the backprop.\n",
    "\n",
    "\n"
   ]
  },
  {
   "cell_type": "code",
   "execution_count": 15,
   "metadata": {},
   "outputs": [
    {
     "data": {
      "image/png": "[encoded data removed]",
      "text/plain": [
       "<Figure size 432x288 with 2 Axes>"
      ]
     },
     "metadata": {},
     "output_type": "display_data"
    },
    {
     "name": "stdout",
     "output_type": "stream",
     "text": [
      "Traing set Acc is 0.828000009059906\n",
      "validation set Acc is 0.35440000891685486\n"
     ]
    }
   ],
   "source": [
    "# Keep track of correct guesses in a confusion matrix\n",
    "confusion_training   = torch.zeros(n_categories, n_categories)\n",
    "confusion_validation = torch.zeros(n_categories, n_categories)\n",
    "n_confusion = 5000\n",
    "\n",
    "# Just return an output given a line\n",
    "def evaluate(line_tensor):\n",
    "    rnn.eval()\n",
    "    output = rnn(line_tensor)\n",
    "    return output\n",
    "\n",
    "# Go through a bunch of examples and record which are correctly guessed\n",
    "for i in range(n_confusion):\n",
    "    category, line, category_tensor, line_tensor = randomTrainingExample()\n",
    "    output = evaluate(line_tensor)\n",
    "    guess, guess_i = categoryFromOutput(output)\n",
    "    category_i = all_categories.index(category)\n",
    "    confusion_training[category_i][guess_i] += 1\n",
    "\n",
    "    \n",
    "# Go through a bunch of examples and record which are correctly guessed\n",
    "for i in range(n_confusion):\n",
    "    category, line, category_tensor, line_tensor = randomValidationExample()\n",
    "    output = evaluate(line_tensor)\n",
    "    guess, guess_i = categoryFromOutput(output)\n",
    "    category_i = all_categories.index(category)\n",
    "    confusion_validation[category_i][guess_i] += 1\n",
    "    \n",
    "    \n",
    "# catcul acc\n",
    "right_train = 0\n",
    "right_valid = 0\n",
    "for i in range(n_categories):\n",
    "    right_train += confusion_training[i][i]\n",
    "    right_valid += confusion_validation[i][i]\n",
    "acc_train = right_train / n_confusion\n",
    "acc_valid = right_valid / n_confusion\n",
    "\n",
    "# Normalize by dividing every row by its sum and \n",
    "for i in range(n_categories):\n",
    "    confusion_training[i] = confusion_training[i] / confusion_training[i].sum()\n",
    "    confusion_validation[i] = confusion_validation[i] / confusion_validation[i].sum()\n",
    "\n",
    "\n",
    "# Set up plot\n",
    "fig = plt.figure()\n",
    "ax1 = fig.add_subplot(121)\n",
    "cax1 = ax1.matshow(confusion_training.numpy())\n",
    "#fig.colorbar(cax1)\n",
    "ax2 = fig.add_subplot(122)\n",
    "cax2 = ax2.matshow(confusion_validation.numpy())\n",
    "#fig.colorbar(cax2)\n",
    "\n",
    "# Set up axes\n",
    "ax1.set_xticklabels([''] + all_categories, rotation=90)\n",
    "ax1.set_yticklabels([''] + all_categories)\n",
    "ax2.set_xticklabels([''] + all_categories, rotation=90)\n",
    "#ax2.set_yticklabels([''] + all_categories)\n",
    "\n",
    "# Force label at every tick\n",
    "#ax.xaxis.set_major_locator(ticker.MultipleLocator(1))\n",
    "#ax.yaxis.set_major_locator(ticker.MultipleLocator(1))\n",
    "\n",
    "# sphinx_gallery_thumbnail_number = 2\n",
    "plt.show()\n",
    "\n",
    "print(\"Traing set Acc is\", acc_train.item())\n",
    "print(\"validation set Acc is\", acc_valid.item())"
   ]
  },
  {
   "cell_type": "markdown",
   "metadata": {},
   "source": [
    "You can pick out bright spots off the main axis that show which\n",
    "languages it guesses incorrectly, e.g. Chinese for Korean, and Spanish\n",
    "for Italian. It seems to do very well with Greek, and very poorly with\n",
    "English (perhaps because of overlap with other languages).\n",
    "\n",
    "\n"
   ]
  },
  {
   "cell_type": "markdown",
   "metadata": {},
   "source": [
    "### 1.6 Running on User Input\n",
    "\n",
    "\n",
    "\n"
   ]
  },
  {
   "cell_type": "code",
   "execution_count": 16,
   "metadata": {},
   "outputs": [
    {
     "name": "stdout",
     "output_type": "stream",
     "text": [
      "\n",
      "> Dovesky\n",
      "Probability (0.92) Czech\n",
      "Probability (0.06) Russian\n",
      "Probability (0.01) English\n",
      "\n",
      "> Jackson\n",
      "Probability (0.77) English\n",
      "Probability (0.15) Russian\n",
      "Probability (0.02) German\n",
      "\n",
      "> Satoshi\n",
      "Probability (0.73) Japanese\n",
      "Probability (0.27) Arabic\n",
      "Probability (0.00) Polish\n",
      "\n",
      "> Cui\n",
      "Probability (0.91) Chinese\n",
      "Probability (0.06) Korean\n",
      "Probability (0.02) Italian\n",
      "\n",
      "> Zhuang\n",
      "Probability (0.86) Chinese\n",
      "Probability (0.11) Vietnamese\n",
      "Probability (0.03) Korean\n",
      "\n",
      "> Xue\n",
      "Probability (0.94) Chinese\n",
      "Probability (0.05) Dutch\n",
      "Probability (0.00) Vietnamese\n",
      "\n",
      "> Wang\n",
      "Probability (1.00) Chinese\n",
      "Probability (0.00) Vietnamese\n",
      "Probability (0.00) Korean\n"
     ]
    }
   ],
   "source": [
    "def predict(input_line, n_predictions=3):\n",
    "    print('\\n> %s' % input_line)\n",
    "    with torch.no_grad():\n",
    "        output = evaluate(lineToTensor(input_line))\n",
    "        output = torch.nn.functional.softmax(output, dim=1)\n",
    "\n",
    "        # Get top N categories\n",
    "        topv, topi = output.topk(n_predictions, 1, True)\n",
    "        predictions = []\n",
    "\n",
    "        for i in range(n_predictions):\n",
    "            value = topv[0][i].item()\n",
    "            category_index = topi[0][i].item()\n",
    "            print('Probability (%.2f) %s' % (value, all_categories[category_index]))\n",
    "            predictions.append([value, all_categories[category_index]])\n",
    "\n",
    "predict('Dovesky')\n",
    "predict('Jackson')\n",
    "predict('Satoshi')\n",
    "predict(\"Cui\")\n",
    "predict(\"Zhuang\")\n",
    "predict(\"Xue\")\n",
    "predict(\"Wang\")"
   ]
  },
  {
   "cell_type": "markdown",
   "metadata": {},
   "source": [
    "### 1.7 Exercises\n",
    "==============================================================================================================\n",
    "\n",
    "1、在第`1.4.3`节中编写代码，打印出训练过程当中，loss值的变化，（loss已经在训练过程中记录，找出并画成曲线即可，你也可以选择自己修改训练过程中的代码，自己实现重新画成更加漂亮的曲线。）   \n",
    "   \n",
    "2、在第`1.6`节，将自己的姓名的每一个字的拼音输入进去，进行预测，看模型预测是否正确（保留上面的预测结果）。如名字为`张三`，则输入`predict('Zhang')`和`predict('San')`.   \n",
    "\n",
    "3、编辑该cell，在下面一行回答问题。当前的`BaseRNN`中使用的激活函数修改成`relu`（在第1.3小节中），然后重新训练模型，看性能是否有变化。\n",
    "\n",
    "当前的激活函数是（      ），训练集准确率为：（            ）验证集的准确率为：（                 ）  \n",
    "激活函数为`Relu`时的训练准确率为：（            ）验证集的准确率为：（                 ）\n",
    "\n",
    "4、编辑该cell，在下面一行记录当前的模型的准确率，然后，回到1.3中，编辑`DeeperRNN`类，使其比`BaseRNN`类更深一层，并且重新训练这个更深的网络，看新能是否有提高（记得去掉`DeeperRNN`那一个cell中的最后两行的注释）。对于RNN的隐藏层的增加可阅读下一个cell的补充理解\n",
    "\n",
    "`BaseRNN`的训练集准确率为：（            ）验证集的准确率为：（                 ）  \n",
    "`DeeperRNN`的训练准确率为：（            ）验证集的准确率为：（                 ）    \n"
   ]
  },
  {
   "cell_type": "markdown",
   "metadata": {},
   "source": [
    "补充材料：    \n",
    ">RNNs are neural networks and everything works monotonically better (if done right) if you put on your deep learning hat and start stacking models up like pancakes. For instance, we can form a 2-layer recurrent network as follows:\n",
    "``` python\n",
    "y1 = rnn1.step(x)\n",
    "y = rnn2.step(y1)\n",
    "```\n",
    ">In other words we have two separate RNNs: One RNN is receiving the input vectors and the second RNN is receiving the output of the first RNN as its input. Except neither of these RNNs know or care - it’s all just vectors coming in and going out, and some gradients flowing through each module during backpropagation.\n",
    "\n",
    "原文阅读点击[这里](https://karpathy.github.io/2015/05/21/rnn-effectiveness/)\n",
    "\n",
    "多层hidden网络结构图如下图所示，其中虚线输出的output表示改output值被丢弃，没有进一步使用：\n",
    "\n",
    "<img src=\"./images/multihidden.png\" width = \"40%\" />"
   ]
  },
  {
   "cell_type": "markdown",
   "metadata": {},
   "source": [
    "## 2. Generating Names with a Character-Level RNN\n",
    "******************************************************    \n",
    "We are still hand-crafting a small RNN with a few linear layers. The big\n",
    "difference is instead of predicting a category after reading in all the\n",
    "letters of a name, we input a category and output one letter at a time.\n",
    "Recurrently predicting characters to form language (this could also be\n",
    "done with words or other higher order constructs) is often referred to\n",
    "as a \"language model\"."
   ]
  },
  {
   "cell_type": "markdown",
   "metadata": {},
   "source": [
    "## 2.1 Creating the Network\n",
    "\n",
    "\n",
    "This network extends [the last tutorial's RNN](#Creating-the-Network)\n",
    "with an extra argument for the category tensor, which is added\n",
    "with the others. The category tensor is a one-hot vector just like\n",
    "the letter input.\n",
    "\n",
    "We will interpret the output as the probability of the next letter. When\n",
    "sampling, the most likely output letter is used as the next input\n",
    "letter.\n",
    "\n",
    "I added a second linear layer ``h2o`` (after combining hidden and\n",
    "output) to give it more muscle to work with. There's also a dropout\n",
    "layer, which [randomly zeros parts of its\n",
    "input](https://arxiv.org/abs/1207.0580) with a given probability\n",
    "(here 0.2) and is usually used to fuzz inputs to prevent overfitting.\n",
    "Here we're using it towards the end of the network to purposely add some\n",
    "chaos and increase sampling variety.\n",
    "\n",
    "<img src=\"./images/grnn.png\" width = \"40%\" />\n",
    "\n",
    "\n",
    "\n",
    "\n"
   ]
  },
  {
   "cell_type": "code",
   "execution_count": 17,
   "metadata": {},
   "outputs": [],
   "source": [
    "import torch\n",
    "import torch.nn as nn\n",
    "\n",
    "class GenerateRNN(nn.Module):\n",
    "    def __init__(self, input_size, hidden_size, output_size):\n",
    "        super(GenerateRNN, self).__init__()\n",
    "        self.hidden_size = hidden_size\n",
    "        self.c2h = nn.Linear(n_categories, hidden_size)\n",
    "        self.i2h = nn.Linear(input_size,   hidden_size)\n",
    "        self.h2h = nn.Linear(hidden_size,  hidden_size)\n",
    "        self.activation = nn.Tanh()\n",
    "        self.h2o = nn.Linear(hidden_size,  output_size)\n",
    "        self.dropout = nn.Dropout(0.2)\n",
    "\n",
    "        self.softmax = nn.LogSoftmax(dim=1)\n",
    "\n",
    "    def forward(self, category, input, hidden):\n",
    "        c2h = self.c2h(category)\n",
    "        i2h = self.i2h(input)\n",
    "        h2h = self.h2h(hidden)\n",
    "        \n",
    "        hidden = self.activation(c2h+i2h+h2h)\n",
    "        \n",
    "\n",
    "        dropout = self.dropout(self.h2o(hidden))\n",
    "        output = self.softmax(dropout)\n",
    "        return output, hidden\n",
    "\n",
    "    def initHidden(self):\n",
    "        return torch.zeros(1, self.hidden_size)"
   ]
  },
  {
   "cell_type": "markdown",
   "metadata": {},
   "source": [
    "### 2.2 Training\n",
    "#### 2.2.1 Preparing for Training"
   ]
  },
  {
   "cell_type": "code",
   "execution_count": 18,
   "metadata": {},
   "outputs": [],
   "source": [
    "import random\n",
    "\n",
    "# Random item from a list\n",
    "def randomChoice(l):\n",
    "    return l[random.randint(0, len(l) - 1)]\n",
    "\n",
    "# Get a random category and random line from that category\n",
    "def randomTrainingPair():\n",
    "    category = randomChoice(all_categories)\n",
    "    line = randomChoice(category_lines[category])\n",
    "    return category, line"
   ]
  },
  {
   "cell_type": "markdown",
   "metadata": {},
   "source": [
    "For each timestep (that is, for each letter in a training word) the\n",
    "inputs of the network will be\n",
    "``(category, current letter, hidden state)`` and the outputs will be\n",
    "``(next letter, next hidden state)``. So for each training set, we'll\n",
    "need the category, a set of input letters, and a set of output/target\n",
    "letters.\n",
    "\n",
    "Since we are predicting the next letter from the current letter for each\n",
    "timestep, the letter pairs are groups of consecutive letters from the\n",
    "line - e.g. for ``\"ABCD<EOS>\"`` we would create (\"A\", \"B\"), (\"B\", \"C\"),\n",
    "(\"C\", \"D\"), (\"D\", \"EOS\").\n",
    "\n",
    "![figure](https://i.imgur.com/JH58tXY.png)\n",
    "\n",
    "The category tensor is a [one-hot\n",
    "tensor](https://en.wikipedia.org/wiki/One-hot) of size\n",
    "``<1 x n_categories>``. When training we feed it to the network at every\n",
    "timestep - this is a design choice, it could have been included as part\n",
    "of initial hidden state or some other strategy.\n",
    "\n",
    "Or you could look at [here]() for another description. I think this image could\n",
    "tell you everything.\n",
    "<img src=\"./images/charseq.jpeg\" width = \"50%\" />"
   ]
  },
  {
   "cell_type": "code",
   "execution_count": 19,
   "metadata": {},
   "outputs": [],
   "source": [
    "# One-hot vector for category\n",
    "def categoryTensor(category):\n",
    "    li = all_categories.index(category)\n",
    "    tensor = torch.zeros(1, n_categories)\n",
    "    tensor[0][li] = 1\n",
    "    return tensor\n",
    "\n",
    "# One-hot matrix of first to last letters (not including EOS) for input\n",
    "def inputTensor(line):\n",
    "    tensor = torch.zeros(len(line), 1, n_letters)\n",
    "    for li in range(len(line)):\n",
    "        letter = line[li]\n",
    "        tensor[li][0][all_letters.find(letter)] = 1\n",
    "    return tensor\n",
    "\n",
    "# LongTensor of second letter to end (EOS) for target\n",
    "def targetTensor(line):\n",
    "    letter_indexes = [all_letters.find(line[li]) for li in range(1, len(line))]\n",
    "    letter_indexes.append(n_letters - 1) # EOS\n",
    "    return torch.LongTensor(letter_indexes)"
   ]
  },
  {
   "cell_type": "markdown",
   "metadata": {},
   "source": [
    "For convenience during training we'll make a ``randomTrainingExample``\n",
    "function that fetches a random (category, line) pair and turns them into\n",
    "the required (category, input, target) tensors.\n"
   ]
  },
  {
   "cell_type": "code",
   "execution_count": 20,
   "metadata": {},
   "outputs": [],
   "source": [
    "# Make category, input, and target tensors from a random category, line pair\n",
    "def randomTrainingExample():\n",
    "    category, line = randomTrainingPair()\n",
    "    category_tensor = categoryTensor(category)\n",
    "    input_line_tensor = inputTensor(line)\n",
    "    target_line_tensor = targetTensor(line)\n",
    "    return category_tensor, input_line_tensor, target_line_tensor"
   ]
  },
  {
   "cell_type": "markdown",
   "metadata": {},
   "source": [
    "#### 2.2.2 Training the Network\n",
    "\n",
    "In contrast to classification, where only the last output is used, we\n",
    "are making a prediction at every step, so we are calculating loss at\n",
    "every step.\n",
    "\n",
    "The magic of autograd allows you to simply sum these losses at each step\n",
    "and call backward at the end.\n",
    "\n",
    "\n",
    "For the loss function ``nn.NLLLoss`` is appropriate, since the last\n",
    "layer of the RNN is ``nn.LogSoftmax``.\n",
    "\n",
    "For the different between `nn.NLLLoss` and the `nn.LogSoftmax`, we could Look\n",
    "at the source code, the most import line is quote as follow:\n",
    "\n",
    "``` python\n",
    " def cross_entropy(input, target):\n",
    "    return nll_loss(log_softmax(input, 1))\n",
    "\n",
    "```\n",
    "\n",
    "In a word, Cross entropy combines `log_softmax` and `nll_loss` in a single function.\n"
   ]
  },
  {
   "cell_type": "code",
   "execution_count": 21,
   "metadata": {},
   "outputs": [],
   "source": [
    "criterion = nn.NLLLoss()\n",
    "\n",
    "learning_rate = 0.0005\n",
    "\n",
    "def train(category_tensor, input_line_tensor, target_line_tensor):\n",
    "    target_line_tensor.unsqueeze_(-1)\n",
    "    hidden = rnn.initHidden()\n",
    "\n",
    "    rnn.zero_grad()\n",
    "\n",
    "    loss = 0\n",
    "\n",
    "    # Take care of the loss function, \n",
    "    # it could be visualized as the following figure \n",
    "    for i in range(input_line_tensor.size(0)):\n",
    "        output, hidden = rnn(category_tensor, input_line_tensor[i], hidden)\n",
    "        l = criterion(output, target_line_tensor[i])\n",
    "        loss += l\n",
    "\n",
    "    loss.backward()\n",
    "\n",
    "    for p in rnn.parameters():\n",
    "        if hasattr(p.grad, \"data\"):\n",
    "            p.data.add_(-learning_rate, p.grad.data)\n",
    "\n",
    "    return output, loss.item() / input_line_tensor.size(0)"
   ]
  },
  {
   "cell_type": "markdown",
   "metadata": {},
   "source": [
    "The loss function could be shown as the following picture. The network forward through entire sequence to compute loss, then backward through entire sequence to compute gradient\n",
    "<img src=\"./images/rnn-loss.png\" width = \"50%\" />\n",
    "\n",
    "\n",
    "To keep track of how long training takes I am adding a timeSince(timestamp) function which returns a human readable string:"
   ]
  },
  {
   "cell_type": "code",
   "execution_count": 22,
   "metadata": {},
   "outputs": [],
   "source": [
    "import time\n",
    "import math\n",
    "\n",
    "def timeSince(since):\n",
    "    now = time.time()\n",
    "    s = now - since\n",
    "    m = math.floor(s / 60)\n",
    "    s -= m * 60\n",
    "    return '%dm %ds' % (m, s)"
   ]
  },
  {
   "cell_type": "markdown",
   "metadata": {},
   "source": [
    "Training is business as usual - call train a bunch of times and wait a few minutes, printing the current time and loss every print_every examples, and keeping store of an average loss per plot_every examples in all_losses for plotting later."
   ]
  },
  {
   "cell_type": "code",
   "execution_count": 23,
   "metadata": {},
   "outputs": [
    {
     "name": "stdout",
     "output_type": "stream",
     "text": [
      "0m 11s (5000 5%) 3.1537\n",
      "0m 24s (10000 10%) 3.0334\n",
      "0m 36s (15000 15%) 2.9642\n",
      "0m 49s (20000 20%) 2.9168\n",
      "1m 2s (25000 25%) 2.8774\n",
      "1m 14s (30000 30%) 2.8447\n",
      "1m 26s (35000 35%) 2.8182\n",
      "1m 37s (40000 40%) 2.7948\n",
      "1m 49s (45000 45%) 2.7749\n",
      "2m 1s (50000 50%) 2.7563\n",
      "2m 13s (55000 55%) 2.7406\n",
      "2m 25s (60000 60%) 2.7261\n",
      "2m 37s (65000 65%) 2.7132\n",
      "2m 49s (70000 70%) 2.7008\n",
      "2m 59s (75000 75%) 2.6885\n",
      "3m 9s (80000 80%) 2.6768\n",
      "3m 22s (85000 85%) 2.6673\n",
      "3m 36s (90000 90%) 2.6578\n",
      "3m 50s (95000 95%) 2.6478\n",
      "4m 3s (100000 100%) 2.6390\n"
     ]
    }
   ],
   "source": [
    "rnn = GenerateRNN(n_letters, 128, n_letters)\n",
    "\n",
    "n_iters = 100000\n",
    "print_every = 5000\n",
    "plot_every = 500\n",
    "all_losses = []\n",
    "total_loss = 0 # Reset every plot_every iters\n",
    "\n",
    "start = time.time()\n",
    "\n",
    "for iter in range(1, n_iters + 1):\n",
    "    output, loss = train(*randomTrainingExample())\n",
    "    total_loss += loss\n",
    "\n",
    "    if iter % print_every == 0:\n",
    "        print('%s (%d %d%%) %.4f' % (timeSince(start), iter, iter / n_iters * 100, total_loss/iter))\n",
    "\n",
    "    if iter % plot_every == 0:\n",
    "        all_losses.append(total_loss / iter)"
   ]
  },
  {
   "cell_type": "markdown",
   "metadata": {},
   "source": [
    "#### 2.2.3 Plotting the Losses\n",
    "\n",
    "Plotting the historical loss from all\\_losses shows the network\n",
    "learning:\n"
   ]
  },
  {
   "cell_type": "code",
   "execution_count": 24,
   "metadata": {},
   "outputs": [
    {
     "data": {
      "text/plain": [
       "[<matplotlib.lines.Line2D at 0x7ff5bbe1f470>]"
      ]
     },
     "execution_count": 24,
     "metadata": {},
     "output_type": "execute_result"
    },
    {
     "data": {
      "image/png": "[encoded data removed]",
      "text/plain": [
       "<Figure size 432x288 with 1 Axes>"
      ]
     },
     "metadata": {},
     "output_type": "display_data"
    }
   ],
   "source": [
    "import matplotlib.pyplot as plt\n",
    "import matplotlib.ticker as ticker\n",
    "\n",
    "plt.figure()\n",
    "plt.plot(all_losses)"
   ]
  },
  {
   "cell_type": "markdown",
   "metadata": {},
   "source": [
    "### 2.3 Sampling the Network\n",
    "\n",
    "To sample we give the network a letter and ask what the next one is,\n",
    "feed that in as the next letter, and repeat until the EOS token.\n",
    "\n",
    "-  Create tensors for input category, starting letter, and empty hidden\n",
    "   state\n",
    "-  Create a string ``output_name`` with the starting letter\n",
    "-  Up to a maximum output length,\n",
    "\n",
    "   -  Feed the current letter to the network\n",
    "   -  Get the next letter from highest output, and next hidden state\n",
    "   -  If the letter is EOS, stop here\n",
    "   -  If a regular letter, add to ``output_name`` and continue\n",
    "\n",
    "-  Return the final name\n",
    "\n",
    "**Note:**\n",
    "   Rather than having to give it a starting letter, another\n",
    "   strategy would have been to include a \"start of string\" token in\n",
    "   training and have the network choose its own starting letter.\n",
    "\n"
   ]
  },
  {
   "cell_type": "code",
   "execution_count": 25,
   "metadata": {},
   "outputs": [
    {
     "name": "stdout",
     "output_type": "stream",
     "text": [
      "Chanton\n",
      "Chanivov\n",
      "Zantovov\n",
      "Zantenov\n",
      "Yongov\n",
      "Yovelov\n",
      "\n",
      "\n",
      "Cherterre\n",
      "Chert\n",
      "Zantar\n",
      "Zanger\n",
      "Yanten\n",
      "Yarteng\n",
      "\n",
      "\n",
      "Carruer\n",
      "Carre\n",
      "Zanera\n",
      "Zarera\n",
      "Yanela\n",
      "Yanere\n",
      "\n",
      "\n",
      "Can\n",
      "Can\n",
      "Zun\n",
      "Zhan\n",
      "Yan\n",
      "Yai\n",
      "\n",
      "\n"
     ]
    }
   ],
   "source": [
    "max_length = 20\n",
    "\n",
    "# Sample from a category and starting letter\n",
    "def sample(category, start_letter='A'):\n",
    "    with torch.no_grad():  # no need to track history in sampling\n",
    "        category_tensor = categoryTensor(category)\n",
    "        input = inputTensor(start_letter)\n",
    "        hidden = rnn.initHidden()\n",
    "\n",
    "        output_name = start_letter\n",
    "\n",
    "        for i in range(max_length):\n",
    "            output, hidden = rnn(category_tensor, input[0], hidden)\n",
    "            topv, topi = output.topk(1)\n",
    "            topi = topi[0][0]\n",
    "            if topi == n_letters - 1:\n",
    "                break\n",
    "            else:\n",
    "                letter = all_letters[topi]\n",
    "                output_name += letter\n",
    "            input = inputTensor(letter)\n",
    "\n",
    "        return output_name\n",
    "\n",
    "# Get multiple samples from one category and multiple starting letters\n",
    "def samples(category, start_letters='ABC'):\n",
    "    for start_letter in start_letters:\n",
    "        print(sample(category, start_letter))\n",
    "    print(\"\\n\")\n",
    "\n",
    "rnn.train()\n",
    "\n",
    "samples('Russian', 'CCZZYY')\n",
    "\n",
    "samples('German',  'CCZZYY')\n",
    "\n",
    "samples('Spanish', 'CCZZYY')\n",
    "\n",
    "samples('Chinese', 'CCZZYY')"
   ]
  },
  {
   "cell_type": "markdown",
   "metadata": {},
   "source": [
    "## 2.4 Exercises\n",
    "=======================================================================================================\n",
    "\n",
    "1、反复输入自己名字的首字母，观察网络的生成的名字是否一样（保留以你自己的名字的首字母为程序输入的结果）    \n",
    "\n",
    "2、请回答：为什么这个模型这个模型训练好了之后，输入同样的参数会产生不一样的结果？并在上面的程序中验证你自己的猜测\n",
    "\n",
    "3、这是一个生成模型，该模型只输入了一个字母，就可以预测一个单词，请问改模型在开始预测什么时候终止预测新的字符，即这个生成模型是如何确定生成的单词的长度的？\n",
    "\n",
    "4、根据下一个cell的提示，以impantance sampling的方式，实现程序在同样输入的情况下，可能生成不一样的名字。\n"
   ]
  },
  {
   "cell_type": "markdown",
   "metadata": {},
   "source": [
    "Importance sampling指的是，在生成单词每一个字母的时候，一般的生成模型都有是选择输出结果中概率值最大的字母作为预测，而Importance sampling的方式则是按照各个字母的输出概率来选择输出哪个模型。举个栗子，当程序输入一个字母`C`的时候，程序预测下一个字母为`[a, o, e]`的概率分别为`[0.7, 0.2, 0.1]`, 普通的做法是直接选择概率值最大的`a`作为预测结果，而`Importance Sampling`的方式则是以`70%`的概率选择`a`，以`20%`的概率选择`o`，以`10%`的该路选择`e`，最终选到哪个有一定的随机性。\n",
    "请根据你的理解，补充完成下面的`Importance sampling`的预测。    \n",
    "\n",
    "Tips: 可使用`numpy.random.choice`函数，文档请点击[这里](https://docs.scipy.org/doc/numpy/reference/generated/numpy.random.choice.html)   \n",
    "Tips: 这部分的代码与上面的代码的不同之处仅仅在于如何选取预测值，所以，你只需要在下面指定的区域编辑代码即可。     \n",
    "Tips: 直接使用模型输出的概率值会比较麻烦，因为模型的概率输出值会很小，因为这里有50多种字符，所以，一个更加明智的做法是只在概率值最高的前3个或者5个中选择，记得要将概率使用softmax等函数将其转换到和为1.\n",
    "Tips: 更加简单的做法是，仅仅使用模型输出的概率值进行排序，然后使用指定的概率值进行选择，如，指定选择概率最大的那个字母的概率值为0.5，第二大的为0.3，第三大的为0.2，然后可以直接输入[0.5, 0.3, 0.2], zheyangz "
   ]
  },
  {
   "cell_type": "code",
   "execution_count": 57,
   "metadata": {},
   "outputs": [
    {
     "name": "stdout",
     "output_type": "stream",
     "text": [
      "Challos\n",
      "Yantov\n",
      "Yamaloshivonenv\n",
      "\n",
      "\n",
      "Cheltante\n",
      "Chemel\n",
      "Yamen\n",
      "\n",
      "\n",
      "Callara\n",
      "Cassarai\n",
      "Zamalarauel\n",
      "Zamala\n",
      "Yanera\n",
      "Yalane\n",
      "\n",
      "\n",
      "Chagg\n",
      "Chagig\n",
      "Chani\n",
      "Zhaim\n",
      "Zhann\n",
      "Zha\n",
      "Yann\n",
      "Yaun\n",
      "Yaumg\n",
      "\n",
      "\n"
     ]
    },
    {
     "name": "stderr",
     "output_type": "stream",
     "text": [
      "/home/childz/Tools/annaconda3/envs/pytorch/lib/python3.5/site-packages/ipykernel_launcher.py:22: UserWarning: Implicit dimension choice for softmax has been deprecated. Change the call to include dim=X as an argument.\n"
     ]
    }
   ],
   "source": [
    "import numpy as np\n",
    "max_length = 20\n",
    "\n",
    "# Sample from a category and starting letter\n",
    "def sample(category, start_letter='A'):\n",
    "    with torch.no_grad():  # no need to track history in sampling\n",
    "        # initial the model and input\n",
    "        category_tensor = categoryTensor(category)\n",
    "        input = inputTensor(start_letter)\n",
    "        hidden = rnn.initHidden()\n",
    "\n",
    "        output_name = start_letter\n",
    "\n",
    "        for i in range(max_length):\n",
    "            # get the output from model\n",
    "            output, hidden = rnn(category_tensor, input[0], hidden)\n",
    "            # change it into probability\n",
    "            output = torch.exp(output)\n",
    "            \n",
    "            #################################################################################\n",
    "            # code here\n",
    "            num_of_choice = 4\n",
    "            topv, topi = output.topk(num_of_choice)\n",
    "            p = output[0][0:num_of_choice]\n",
    "            #print(p)\n",
    "            p = torch.nn.functional.softmax(p*50)\n",
    "            p = p.numpy()\n",
    "            indexs = np.arange(num_of_choice)\n",
    "            #print(p.shape)\n",
    "            #print(indexs.shape)\n",
    "            index = np.random.choice(indexs, 1, p=p)\n",
    "            #print(index)\n",
    "            #print(topi.shape)                  \n",
    "            #\n",
    "            ###############################################################################\n",
    "            \n",
    "\n",
    "            \n",
    "            topi = topi[0][index]\n",
    "            if topi == n_letters - 1:\n",
    "                break\n",
    "            else:\n",
    "                letter = all_letters[topi]\n",
    "                output_name += letter\n",
    "            input = inputTensor(letter)\n",
    "\n",
    "        return output_name\n",
    "\n",
    "# Get multiple samples from one category and multiple starting letters\n",
    "def samples(category, start_letters='ABC'):\n",
    "    for start_letter in start_letters:\n",
    "        print(sample(category, start_letter))\n",
    "    print(\"\\n\")\n",
    "\n",
    "rnn.eval()\n",
    "\n",
    "samples('Russian', 'CYY')\n",
    "\n",
    "samples('German', 'CCY')\n",
    "\n",
    "samples('Spanish', 'CCZZYY')\n",
    "\n",
    "samples('Chinese', 'CCCZZZYYY')"
   ]
  },
  {
   "cell_type": "code",
   "execution_count": null,
   "metadata": {},
   "outputs": [],
   "source": []
  }
 ],
 "metadata": {
  "kernelspec": {
   "display_name": "pytorch",
   "language": "python",
   "name": "pytorch"
  },
  "language_info": {
   "codemirror_mode": {
    "name": "ipython",
    "version": 3
   },
   "file_extension": ".py",
   "mimetype": "text/x-python",
   "name": "python",
   "nbconvert_exporter": "python",
   "pygments_lexer": "ipython3",
   "version": "3.5.5"
  }
 },
 "nbformat": 4,
 "nbformat_minor": 1
}
