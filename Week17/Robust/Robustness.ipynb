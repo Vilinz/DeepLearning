{
 "cells": [
  {
   "cell_type": "markdown",
   "metadata": {},
   "source": [
    "# Week 16. Robustness  \n",
    "  \n",
    "Deep learning has been widely applied to various computer vision tasks with excellent performance. Prior to the realization of the adversarial example phenomenon by Biggio et al., Szegedy et.al, model performance on clean examples was the main evaluation criteria. However, in security-critical applications, robustness to adversarial atttacks has emerged as a critical factor.    \n",
    "\n",
    "In this part, we would engage into experiments about the robustness of neural networks.   \n",
    "\n",
    "We would introduce one basic attack method which adds perturbation to clean images and one newest defense method calling fast adversarial training.  \n",
    "\n",
    "Our experiments are based on MNIST and the model we would use here is LeNet. Since the dataset is small and the network is simple, you can either run the code on the GPU or your personal PC.  \n",
    "\n",
    "Edited by Felix Xue."
   ]
  },
  {
   "cell_type": "markdown",
   "metadata": {},
   "source": [
    "# Outline  \n",
    "1. Adversarial attack v.s. Defense  \n",
    "    - adversarial examples  \n",
    "    - attack scenarios  \n",
    "    - attack methods \n",
    "    - defense methods\n",
    "2. Attack: FGSM\n",
    "3. Defense: Adversarial training  \n",
    "4. Practise(Another Dataset)"
   ]
  },
  {
   "cell_type": "markdown",
   "metadata": {},
   "source": [
    "![map](imgs/adversarial.png)"
   ]
  },
  {
   "cell_type": "markdown",
   "metadata": {},
   "source": [
    "# Adversarial Attack v.s. Defense  \n",
    "\n",
    "## Adversarial examples  \n",
    "An adversarial example is a sample of input data which has been modified very slightly in a way that is intended to cause a machine learn classifier to misclassify it.    \n",
    "\n",
    "## Common attack scenarious  \n",
    "Scenarious of possible adversarial attacks can be categorized along different dimensions.  \n",
    "\n",
    "First of all, attacks can be classified **by the type of outcome the adversary desires**:  \n",
    "- Non-targetd attack. In this case adversary's goal is to cause the classifier to predict any incorrect label. The specific incorrect label does not matter.  \n",
    "- Targeted attack. In this case the adversary aims to change the classifier's prediction to some specific target class.  \n",
    "\n",
    "Second, attack scenarious can be classified **by the amout of knowledge the adversary has about the model**:  \n",
    "- White box. The adversary has full knowledge of the model including model type, model architecture and values of all parameters and trainable weights.  \n",
    "- Blackbox with probing. The adversary does not know vary much about the model, but can probe or query the model, i.e. feed some inputs and observe outputs.  \n",
    "- Blackbox without probing. Ihe adversary has limited or no knowledge about the model under attack and is not allowed to probe or query the model while constructing adversarial examples.  \n",
    "\n",
    "Third, attacks can be classified **by the way adversary can feed data into the model**:  \n",
    "- Digital attack. The adversary has direct access to the actual data fed into the model. i.e. uploads a PNG file to a web service, and intentionally designs the file to be read incorrectly.  \n",
    "- Physical attack. The adversary does not have direct access to the digital representation of provided to the model. Instead, the model is fed input obtained by sensors such as a camera or microphone. The adversary is able to place objects in the physical environment seen by the camera or produce sounds heard by the microphone.  \n",
    "\n",
    "## Overveiw of Attack methods  \n",
    "- White box digital attacks  \n",
    "- Black box attacks  \n",
    "It was observed that adversarial examples generlize between different models. In other words, a significant fraction of adversarial examples which fool one model are able to fool a different model. This property is called \"transferability\" and is used to craft adversarial examples in the black box scenario.    \n",
    "\n",
    "\n",
    "## Overview of Defenses  \n",
    "- Image preprocessing and denoising\n",
    "- JPEG compression  \n",
    "- Gradient masking  \n",
    "- Detecting and refusing  \n",
    "- Adversarial training."
   ]
  },
  {
   "cell_type": "markdown",
   "metadata": {},
   "source": [
    "# Attack\n",
    "\n",
    "### Fast Gradient Sign Attack  \n",
    "\n",
    "One of the fist and most popular adversarial attacks to date is referred to as the *Fast Gradient Sign Attack(FGSM)* and is described by Goodfellow et.al. in [Explaining and Harnessing Adversarial\n",
    "Examples](<https://arxiv.org/abs/1412.6572>). The attack is remarkably powerful, and yet intuitive. It is designed to attack neural networks by leveraging the way they learn, *gradients*. The idea is simple, rather than working to minimize the loss by adjusting the weights based on the backpropagated gradients, the attack *adjusts the input data to maximize the loss* based on the same backpropagated gradients. In other words, the attack uses the gradient of the loss w.r.t the input data, then adjusts the input data to maximize the loss.   \n",
    "\n",
    "Before we jump into the code, let's look at the famous **FGSM** panda example and extract some notation.  \n",
    "\n",
    "![fgsm_panda](imgs/fgsm.png)  \n",
    "\n",
    "From the figure, $\\mathbf{x}$ is the original input image\n",
    "correctly classified as a “panda”, $y$ is the ground truth label\n",
    "for $\\mathbf{x}$, $\\mathbf{\\theta}$ represents the model\n",
    "parameters, and $J(\\mathbf{\\theta}, \\mathbf{x}, y)$ is the loss\n",
    "that is used to train the network. The attack backpropagates the\n",
    "gradient back to the input data to calculate\n",
    "$\\nabla_{x} J(\\mathbf{\\theta}, \\mathbf{x}, y)$. Then, it adjusts\n",
    "the input data by a small step ($\\epsilon$ or $0.007$ in the\n",
    "picture) in the direction (i.e.\n",
    "$sign(\\nabla_{x} J(\\mathbf{\\theta}, \\mathbf{x}, y))$) that will\n",
    "maximize the loss. The resulting perturbed image, $x'$, is then\n",
    "*misclassified* by the target network as a “gibbon” when it is still\n",
    "clearly a “panda”.\n",
    "\n",
    "  \n",
    "    \n",
    "    \n",
    "    "
   ]
  },
  {
   "cell_type": "code",
   "execution_count": 1,
   "metadata": {},
   "outputs": [],
   "source": [
    "%matplotlib inline\n",
    "%load_ext autoreload\n",
    "%autoreload 2"
   ]
  },
  {
   "cell_type": "code",
   "execution_count": 2,
   "metadata": {},
   "outputs": [],
   "source": [
    "import torch  \n",
    "import torch.nn as nn \n",
    "import torch.nn.functional as F\n",
    "import torch.optim as optim\n",
    "from torchvision import datasets, transforms\n",
    "import resnet\n",
    "import numpy as np\n",
    "import matplotlib.pyplot as plt"
   ]
  },
  {
   "cell_type": "markdown",
   "metadata": {},
   "source": [
    "Implementation  \n",
    "----------------\n",
    "\n",
    "Int this section, we will discuss the input parameters for the tutorial,\n",
    "define the model under attack, then code the attack and run some tests.  \n",
    "\n",
    "\n",
    "Inputs  \n",
    "------  \n",
    "\n",
    "There are only three inputs for this tutorial, and are defined as \n",
    "follows:  \n",
    "-  **epsilons** - List of epsilon values to use for the run. It is \n",
    "   important to keep 0 in the list because it represents the model \n",
    "   performance on the original test set. Also, intuitively we would\n",
    "   expect the larger the epsilon, the more noticeable the perturbations\n",
    "   but the more effective the attack in terms of degrading model \n",
    "   accuracy. Since the data range here in $[0,1]$, no epsilon\n",
    "   value should exceed 1.\n",
    "-  **pretrained_model** - Path to the pretrained MINST model which was\n",
    "   trained with resnet (source code located at resnet.py) and lenet.  \n",
    "-  **use_cuda** - boolean flag to use CUDA if desired and available.\n",
    "   Note, a GPU with CUDA is not critical for this tutorial as a CPU will\n",
    "   not take much time.  \n",
    "\n",
    "<p style=\"color:red; font-weight:700; font-size: 20px;\">Please try to detect available gpu device with torch.cuda</p>"
   ]
  },
  {
   "cell_type": "code",
   "execution_count": 3,
   "metadata": {},
   "outputs": [
    {
     "name": "stdout",
     "output_type": "stream",
     "text": [
      "CUDA Available:  <torch.cuda.device object at 0x0000023596AF52B0>\n"
     ]
    }
   ],
   "source": [
    "epsilons = [0, .05, .15, .25]\n",
    "# epsilons = [0, .05, .1, .15, .2, .25, .3]\n",
    "\n",
    "# Use pretrained model or not\n",
    "# pretrained_model = \"data/mnist_cnn.pt\"  \n",
    "\n",
    "# Both of the network and dataset are simple, so we can use small number of epochs.\n",
    "epochs = 3\n",
    "\n",
    "\n",
    "use_cuda = True  \n",
    "# Define what device we are using\n",
    "# Code here\n",
    "print(\"CUDA Available: \", torch.cuda.device('cuda:0'))  \n",
    "# hint: torch.cuda.is_available()\n",
    "\n",
    "device = torch.device(\"cuda\" if (use_cuda and torch.cuda.device('cuda:0')) else \"cpu\")\n",
    "# device = torch.device(\"cuda\" if (use_cuda and 'code' here) else \"cpu\")"
   ]
  },
  {
   "cell_type": "markdown",
   "metadata": {},
   "source": [
    "## Load Dataset  \n",
    "\n",
    "To accelerate training process, we use the raw test dataset as our training dataset.   \n",
    "\n",
    "Also, you can train model with the original training dataset.  "
   ]
  },
  {
   "cell_type": "code",
   "execution_count": 10,
   "metadata": {},
   "outputs": [],
   "source": [
    "# MNIST dataloader\n",
    "def dataset_mnist(train_batch=32, test_batch=1):\n",
    "    # MNIST Train dataset\n",
    "#     train_loader = torch.utils.data.DataLoader(\n",
    "#         datasets.MNIST('./data/mnist', train=True, download=False,\n",
    "#                        transform=transforms.Compose([transforms.ToTensor()])),\n",
    "#             batch_size=train_batch, shuffle=True)\n",
    "    train_loader = torch.utils.data.DataLoader(\n",
    "        datasets.MNIST('./data/mnist', train=False, download=False, \n",
    "                       transform=transforms.Compose([transforms.ToTensor()])),\n",
    "            batch_size=train_batch, shuffle=True)\n",
    "\n",
    "    # MNIST Test dataset and dataloader declaration  \n",
    "    test_loader = torch.utils.data.DataLoader(\n",
    "        datasets.MNIST('./data/mnist', train=False, download=False, \n",
    "                       transform=transforms.Compose([transforms.ToTensor()])),\n",
    "            batch_size=test_batch, shuffle=False)\n",
    "    return train_loader, test_loader"
   ]
  },
  {
   "cell_type": "markdown",
   "metadata": {},
   "source": [
    "Model Under Attack  \n",
    "------  \n",
    "\n",
    "As mentioned, the model under attack is the same MNIST model from `resnet.py`. You may\n",
    "train and save your own MINST model or you can use the provided model.\n",
    "The *Net definition* and test dataloader here have benn copied from \n",
    "the MNIST example. The purpose of this section is to define the \n",
    "model and dataloader, then initialize the model and load the pretrained\n",
    "weights."
   ]
  },
  {
   "cell_type": "code",
   "execution_count": 5,
   "metadata": {},
   "outputs": [],
   "source": [
    "# Train a traditional classifier with resnet or use the pretrained one.\n",
    "raw_resnet_path = './data/mnist_resnet.pt'"
   ]
  },
  {
   "cell_type": "markdown",
   "metadata": {},
   "source": [
    "## Train a traditional classifier      "
   ]
  },
  {
   "cell_type": "code",
   "execution_count": 6,
   "metadata": {},
   "outputs": [],
   "source": [
    "# Train model  \n",
    "def train(model, device, train_loader, optimizer, criterion, epoch):\n",
    "    model.train() # set model state to `train`\n",
    "    for batch_idx, (data, target) in enumerate(train_loader):\n",
    "        data, target = data.to(device), target.to(device)\n",
    "        \n",
    "        optimizer.zero_grad()\n",
    "        output = model(data)\n",
    "        loss = criterion(output, target)\n",
    "        loss.backward()\n",
    "        optimizer.step()\n",
    "        \n",
    "        if batch_idx % 100 == 0:\n",
    "            print('Train Epoch: {} [{}/{} ({:.0f}%)]\\tLoss: {:.6f}'.format(\n",
    "                epoch, batch_idx * len(data), len(train_loader.dataset),\n",
    "                100. * batch_idx / len(train_loader), loss.item()))\n",
    "            \n",
    "# Test model  \n",
    "def test(model, device, criterion, test_loader):\n",
    "    model.eval()\n",
    "    \n",
    "    test_loss = 0\n",
    "    correct = 0\n",
    "    with torch.no_grad():\n",
    "        for data, target in test_loader:\n",
    "            data, target = data.to(device), target.to(device)\n",
    "            \n",
    "            output = model(data)\n",
    "            test_loss += criterion(output, target)\n",
    "            pred = output.argmax(dim=1, keepdim=True) # get the index of the max log-probability\n",
    "            correct += pred.eq(target.view_as(pred)).sum().item()\n",
    "\n",
    "    test_loss /= len(test_loader.dataset)\n",
    "\n",
    "    print('\\nTest set: Average loss: {:.4f}, Accuracy: {}/{} ({:.0f}%)\\n'.format(\n",
    "        test_loss, correct, len(test_loader.dataset),\n",
    "        100. * correct / len(test_loader.dataset)))  \n",
    "    \n",
    "def raw_train(save_name=raw_resnet_path):\n",
    "    '''\n",
    "    Main function to train and save the model under atttack.\n",
    "    \n",
    "    params:\n",
    "        save_name: The model to be saved.\n",
    "    '''\n",
    "    train_loader, test_loader = dataset_mnist()\n",
    "    # Initialize the network\n",
    "    model = resnet.ResNet18().to(device)\n",
    "    \n",
    "    # Define the optimizer\n",
    "    optimizer = optim.SGD(model.parameters(), lr=0.1, momentum=0.9, weight_decay=5e-4)\n",
    "    \n",
    "    # Define the criterion \n",
    "    criterion = nn.CrossEntropyLoss()\n",
    "    \n",
    "    for epoch in range(1, epochs+1):\n",
    "        train(model, device, train_loader, optimizer, criterion, epoch)\n",
    "        test(model, device, criterion, test_loader)\n",
    "    \n",
    "    # Save model\n",
    "    torch.save(model.state_dict(), save_name)\n",
    "    print('Model saved at ', save_name)\n"
   ]
  },
  {
   "cell_type": "markdown",
   "metadata": {},
   "source": [
    "<p style=\"color:red; font-weight:700; font-size: 20px;\">Call this function, you can get a well trained classifier with accuracy up to 95+%.</p>  \n",
    "Or you can use the pretrained one."
   ]
  },
  {
   "cell_type": "code",
   "execution_count": 11,
   "metadata": {},
   "outputs": [
    {
     "name": "stdout",
     "output_type": "stream",
     "text": [
      "Train Epoch: 1 [0/10000 (0%)]\tLoss: 2.663381\n",
      "Train Epoch: 1 [3200/10000 (32%)]\tLoss: 0.132495\n",
      "Train Epoch: 1 [6400/10000 (64%)]\tLoss: 0.060500\n",
      "Train Epoch: 1 [9600/10000 (96%)]\tLoss: 0.172271\n",
      "\n",
      "Test set: Average loss: 0.1256, Accuracy: 9640/10000 (96%)\n",
      "\n",
      "Train Epoch: 2 [0/10000 (0%)]\tLoss: 0.167444\n",
      "Train Epoch: 2 [3200/10000 (32%)]\tLoss: 0.134049\n",
      "Train Epoch: 2 [6400/10000 (64%)]\tLoss: 0.023918\n",
      "Train Epoch: 2 [9600/10000 (96%)]\tLoss: 0.031813\n",
      "\n",
      "Test set: Average loss: 0.1408, Accuracy: 9540/10000 (95%)\n",
      "\n",
      "Train Epoch: 3 [0/10000 (0%)]\tLoss: 0.053932\n",
      "Train Epoch: 3 [3200/10000 (32%)]\tLoss: 0.018633\n",
      "Train Epoch: 3 [6400/10000 (64%)]\tLoss: 0.059670\n",
      "Train Epoch: 3 [9600/10000 (96%)]\tLoss: 0.011155\n",
      "\n",
      "Test set: Average loss: 0.0342, Accuracy: 9899/10000 (99%)\n",
      "\n",
      "Model saved at  ./data/mnist_resnet.pt\n"
     ]
    }
   ],
   "source": [
    "raw_train()\n",
    "# Call this function, you can get a well trained classifier with accuracy up to 95+%.  "
   ]
  },
  {
   "cell_type": "markdown",
   "metadata": {},
   "source": [
    "FGSM Attack  \n",
    "------  \n",
    "\n",
    "Now, we can define the function that creates the adversarial examples by\n",
    "perturbing the original inputs. The ``fgsm_attack`` function takes three\n",
    "inputs, *image* is the original clean image ($x$), *epsilon* is\n",
    "the pixel-wise perturbation amount ($\\epsilon$), and *data_grad*\n",
    "is gradient of the loss w.r.t the input image\n",
    "($\\nabla_{x} J(\\mathbf{\\theta}, \\mathbf{x}, y)$). The function\n",
    "then creates perturbed image as\n",
    "\n",
    "\\begin{align}perturbed\\_image = image + epsilon*sign(data\\_grad) = x + \\epsilon * sign(\\nabla_{x} J(\\mathbf{\\theta}, \\mathbf{x}, y))\\end{align}\n",
    "\n",
    "Finally, in order to maintain the original range of the data, the\n",
    "perturbed image is clipped to range $[0,1]$.  \n",
    "\n",
    "<p style=\"color:red; font-weight:700; font-size: 20px;\">Please try to finish the attack code with the information above.</p>"
   ]
  },
  {
   "cell_type": "code",
   "execution_count": 12,
   "metadata": {},
   "outputs": [],
   "source": [
    "# FGSM attack code  \n",
    "def fgsm_attack(image, epsilon, data_grad):\n",
    "    # Collect the element-wise sign of the data gradient  \n",
    "    sign_data_grad = data_grad.sign()  \n",
    "    # Create the perturbed image by adjusting each pixel of the input image  \n",
    "    \n",
    "    # code here    \n",
    "    perturbed_image = image + epsilon * sign_data_grad\n",
    "    \n",
    "    # Note: Adding clipping to maintain [0,1] range  \n",
    "    perturbed_image = torch.clamp(perturbed_image, 0, 1)\n",
    "    # Return the perturbed image  \n",
    "    return perturbed_image"
   ]
  },
  {
   "cell_type": "markdown",
   "metadata": {},
   "source": [
    "Testing Function\n",
    "------\n",
    "\n",
    "Finally, the central result of this tutorial comes from the ``test``\n",
    "function. Each call to this test function performs a full test step on\n",
    "the MNIST test set and reports a final accuracy. However, notice that\n",
    "this function also takes an *epsilon* input. This is because the\n",
    "``test`` function reports the accuracy of a model that is under attack\n",
    "from an adversary with strength $\\epsilon$. More specifically, for\n",
    "each sample in the test set, the function computes the gradient of the\n",
    "loss w.r.t the input data ($data\\_grad$), creates a perturbed\n",
    "image with ``fgsm_attack`` ($perturbed\\_data$), then checks to see\n",
    "if the perturbed example is adversarial. In addition to testing the\n",
    "accuracy of the model, the function also saves and returns some\n",
    "successful adversarial examples to be visualized later.  \n",
    "\n",
    "<p style=\"color:red; font-weight:700; font-size: 24px;\">Please try to finish the test code with `fgsm_attack` function.</p>"
   ]
  },
  {
   "cell_type": "code",
   "execution_count": 13,
   "metadata": {},
   "outputs": [],
   "source": [
    "def adv_test( model, device, test_loader, epsilon ):\n",
    "\n",
    "    # Accuracy counter\n",
    "    correct = 0\n",
    "    adv_examples = []\n",
    "\n",
    "    # Loop over all examples in test set\n",
    "    for data, target in test_loader:\n",
    "\n",
    "        # Send the data and label to the device\n",
    "        data, target = data.to(device), target.to(device)\n",
    "        # Set requires_grad attribute of tensor. Important for Attack\n",
    "        data.requires_grad = True\n",
    "\n",
    "        # Forward pass the data through the model\n",
    "        output = model(data)\n",
    "        init_pred = output.max(1, keepdim=True)[1] # get the index of the max log-probability\n",
    "\n",
    "        # If the initial prediction is wrong, dont bother attacking, just move on\n",
    "        if init_pred.item() != target.item():\n",
    "            continue\n",
    "\n",
    "        # Calculate the loss\n",
    "        loss = F.nll_loss(output, target)\n",
    "\n",
    "        # Zero all existing gradients\n",
    "        model.zero_grad()\n",
    "\n",
    "        # Calculate gradients of model in backward pass\n",
    "        loss.backward()\n",
    "\n",
    "        # Collect datagrad\n",
    "        data_grad = data.grad.data\n",
    "        \n",
    "        \n",
    "        \n",
    "\n",
    "        # Call FGSM Attack\n",
    "        # code here\n",
    "        perturbed_data = fgsm_attack(data, epsilon, data_grad)\n",
    "\n",
    "\n",
    "        \n",
    "        \n",
    "        # Re-classify the perturbed image\n",
    "        output = model(perturbed_data)\n",
    "\n",
    "        # Check for success\n",
    "        final_pred = output.max(1, keepdim=True)[1] # get the index of the max log-probability\n",
    "        if final_pred.item() == target.item():\n",
    "            correct += 1\n",
    "            # Special case for saving 0 epsilon examples\n",
    "            if (epsilon == 0) and (len(adv_examples) < 5):\n",
    "                adv_ex = perturbed_data.squeeze().detach().cpu().numpy()\n",
    "                adv_examples.append( (init_pred.item(), final_pred.item(), adv_ex) )\n",
    "        else:\n",
    "            # Save some adv examples for visualization later\n",
    "            if len(adv_examples) < 5:\n",
    "                adv_ex = perturbed_data.squeeze().detach().cpu().numpy()\n",
    "                adv_examples.append( (init_pred.item(), final_pred.item(), adv_ex) )\n",
    "\n",
    "    # Calculate final accuracy for this epsilon\n",
    "    final_acc = correct/float(len(test_loader))\n",
    "    print(\"Epsilon: {}\\tAccuracy: {}/{} ({:.2f}%)\".format(epsilon, correct, len(test_loader), 100.0 * final_acc))\n",
    "\n",
    "    # Return the accuracy and an adversarial example\n",
    "    return final_acc, adv_examples"
   ]
  },
  {
   "cell_type": "markdown",
   "metadata": {},
   "source": [
    "Run Attack\n",
    "------\n",
    "\n",
    "The last part of the implementation is to actually run the attack. Here,\n",
    "we run a full test step for each epsilon value in the *epsilons* input.\n",
    "For each epsilon we also save the final accuracy and some successful\n",
    "adversarial examples to be plotted in the coming sections. Notice how\n",
    "the printed accuracies decrease as the epsilon value increases. Also,\n",
    "note the $\\epsilon=0$ case represents the original test accuracy,\n",
    "with no attack.\n",
    "\n",
    "\n"
   ]
  },
  {
   "cell_type": "code",
   "execution_count": 14,
   "metadata": {},
   "outputs": [],
   "source": [
    "def attack_test(model_path):\n",
    "    model = resnet.ResNet18().to(device)\n",
    "    # Load the pretrained model\n",
    "    print('Pretrained Model', model_path)\n",
    "    model.load_state_dict(torch.load(model_path, map_location='cpu'))\n",
    "    # Set the model in evaluation mode. In this case this is for the Dropout layers\n",
    "    model.eval()    \n",
    "    \n",
    "    _, test_loader = dataset_mnist()\n",
    "    \n",
    "    accuracies = []\n",
    "    examples = []\n",
    "\n",
    "    # Run test for each epsilon\n",
    "    for eps in epsilons:\n",
    "        acc, ex = adv_test(model, device, test_loader, eps)\n",
    "        accuracies.append(acc)\n",
    "        examples.append(ex)\n",
    "    return accuracies, examples"
   ]
  },
  {
   "cell_type": "markdown",
   "metadata": {},
   "source": [
    "<p style=\"color:red; font-weight:700; font-size: 20px;\">Run the attack function here.</p>"
   ]
  },
  {
   "cell_type": "code",
   "execution_count": 15,
   "metadata": {},
   "outputs": [
    {
     "name": "stdout",
     "output_type": "stream",
     "text": [
      "Pretrained Model ./data/mnist_resnet.pt\n",
      "Epsilon: 0\tAccuracy: 9899/10000 (98.99%)\n",
      "Epsilon: 0.05\tAccuracy: 9614/10000 (96.14%)\n",
      "Epsilon: 0.15\tAccuracy: 4155/10000 (41.55%)\n",
      "Epsilon: 0.25\tAccuracy: 881/10000 (8.81%)\n"
     ]
    }
   ],
   "source": [
    "# Remember we have saved the model at 'raw_resnet_path'.\n",
    "pretrained_model = raw_resnet_path\n",
    "accuracies, examples = attack_test(pretrained_model)\n",
    "# Hints: below are the accuracies under FGSM attack with different epsilons.\n",
    "# Epsilon    Accuracy\n",
    "#    0         ~raw  \n",
    "#   0.05       < 60%  \n",
    "#   0.15       < 30%  \n",
    "#   0.25       < 10%"
   ]
  },
  {
   "cell_type": "markdown",
   "metadata": {},
   "source": [
    "# Results\n",
    "\n",
    "\n",
    "## Accuracy vs Epsilon\n",
    "\n",
    "\n",
    "The first result is the accuracy versus epsilon plot. As alluded to\n",
    "earlier, as epsilon increases we expect the test accuracy to decrease.\n",
    "This is because larger epsilons mean we take a larger step in the\n",
    "direction that will maximize the loss. Notice the trend in the curve is\n",
    "not linear even though the epsilon values are linearly spaced. For\n",
    "example, the accuracy at $\\epsilon=0.05$ is only about 4% lower\n",
    "than $\\epsilon=0$, but the accuracy at $\\epsilon=0.2$ is 25%\n",
    "lower than $\\epsilon=0.15$. Also, notice the accuracy of the model\n",
    "hits random accuracy for a 10-class classifier between\n",
    "$\\epsilon=0.25$ and $\\epsilon=0.3$.\n",
    "\n"
   ]
  },
  {
   "cell_type": "code",
   "execution_count": 16,
   "metadata": {},
   "outputs": [],
   "source": [
    "def plt_acc_vs_eps(epsilons, accuracies):\n",
    "    plt.figure(figsize=(5,5))\n",
    "    plt.plot(epsilons, accuracies, \"*-\")\n",
    "    plt.yticks(np.arange(0, 1.1, step=0.1))\n",
    "    plt.xticks(np.arange(0, .35, step=0.05))\n",
    "    plt.title(\"Accuracy vs Epsilon\")\n",
    "    plt.xlabel(\"Epsilon\")\n",
    "    plt.ylabel(\"Accuracy\")\n",
    "    plt.show()"
   ]
  },
  {
   "cell_type": "code",
   "execution_count": 17,
   "metadata": {},
   "outputs": [
    {
     "name": "stdout",
     "output_type": "stream",
     "text": [
      "Blue: Raw ResNet under white-box attack.\n"
     ]
    },
    {
     "data": {
      "image/png": "[encoded data removed]",
      "text/plain": [
       "<Figure size 360x360 with 1 Axes>"
      ]
     },
     "metadata": {
      "needs_background": "light"
     },
     "output_type": "display_data"
    }
   ],
   "source": [
    "print('Blue: Raw ResNet under white-box attack.')\n",
    "plt_acc_vs_eps(epsilons, accuracies)"
   ]
  },
  {
   "cell_type": "markdown",
   "metadata": {},
   "source": [
    "## Sample Adversarial Examples  \n",
    "\n",
    "Remember the idea of no free lunch? In this case, as epsilon increases\n",
    "the test accuracy decreases **BUT** the perturbations become more easily\n",
    "perceptible. In reality, there is a tradeoff between accuracy\n",
    "degredation and perceptibility that an attacker must consider. Here, we\n",
    "show some examples of successful adversarial examples at each epsilon\n",
    "value. Each row of the plot shows a different epsilon value. The first\n",
    "row is the $\\epsilon=0$ examples which represent the original\n",
    "“clean” images with no perturbation. The title of each image shows the\n",
    "“original classification -> adversarial classification.” Notice, the\n",
    "perturbations start to become evident at $\\epsilon=0.15$ and are\n",
    "quite evident at $\\epsilon=0.3$. However, in all cases humans are\n",
    "still capable of identifying the correct class despite the added noise.\n"
   ]
  },
  {
   "cell_type": "code",
   "execution_count": 18,
   "metadata": {},
   "outputs": [],
   "source": [
    "def plt_examples(epsilons, examples):\n",
    "    # Plot several examples of adversarial samples at each epsilon\n",
    "    cnt = 0\n",
    "    plt.figure(figsize=(8,10))\n",
    "    for i in range(len(epsilons)):\n",
    "        for j in range(len(examples[i])):\n",
    "            cnt += 1\n",
    "            plt.subplot(len(epsilons),len(examples[0]),cnt)\n",
    "            plt.xticks([], [])\n",
    "            plt.yticks([], [])\n",
    "            if j == 0:\n",
    "                plt.ylabel(\"Eps: {}\".format(epsilons[i]), fontsize=14)\n",
    "            orig,adv,ex = examples[i][j]\n",
    "            plt.title(\"{} -> {}\".format(orig, adv))\n",
    "            plt.imshow(ex, cmap=\"gray\")\n",
    "    plt.tight_layout()\n",
    "    plt.show()"
   ]
  },
  {
   "cell_type": "code",
   "execution_count": 19,
   "metadata": {},
   "outputs": [
    {
     "data": {
      "image/png": "[encoded data removed]",
      "text/plain": [
       "<Figure size 576x720 with 20 Axes>"
      ]
     },
     "metadata": {},
     "output_type": "display_data"
    }
   ],
   "source": [
    "plt_examples(epsilons, examples)"
   ]
  },
  {
   "cell_type": "markdown",
   "metadata": {},
   "source": [
    "# Defense   \n",
    "The most popular defense in current research papers is probably adversarial training.  \n",
    "\n",
    "## Adversarial Training  \n",
    "\n",
    "The idea is to inject adversarial examples into training process and train the \n",
    "model either on adversarial examples or on mix of clean and adversarial examples.\n",
    "\n",
    "Here, we use the training model to generate adversarial examples by FGSM attack and then \n",
    "feed them into the model.  \n",
    "The perturbed image is get by this equation:  \n",
    "\n",
    "\\begin{align}perturbed\\_image = image + epsilon*sign(data\\_grad) = x + \\epsilon * sign(\\nabla_{x} J(\\mathbf{\\theta}, \\mathbf{x}, y))\\end{align}  \n",
    "\n",
    "We already have the raw image, and we can get the grad by one forward and backward pass. What we need here is \n",
    "`epsilon`. Since we need it to train a more robust model, we set `epsilon` equals to `0.3`. You can try different `epsilon` and see what happens.\n",
    "\n",
    "<p style=\"color:red; font-weight:700; font-size: 20px;\">Please try to finish the `fgsm_train` function.</p>"
   ]
  },
  {
   "cell_type": "code",
   "execution_count": 20,
   "metadata": {},
   "outputs": [],
   "source": [
    "def fgsm_train(model, device, train_loader, optimizer, criterion, epoch, epsilon=0.3):\n",
    "    model.train()\n",
    "    for batch_idx, (data, target) in enumerate(train_loader):\n",
    "        data, target = data.to(device), target.to(device)  \n",
    "        data.requires_grad = True\n",
    "        \n",
    "        #****** To get the grad  *********\n",
    "        # Forward pass\n",
    "        output = model(data)  \n",
    "        loss = criterion(output, target)  \n",
    "        optimizer.zero_grad()\n",
    "        # Backward pass\n",
    "        loss.backward()\n",
    "        # Collect datagrad\n",
    "        sign_data_grad = torch.sign(data.grad.data)\n",
    "        \n",
    "        #****** Get perturbed_data  *********\n",
    "        # Code here\n",
    "        perturbed_data = data + epsilon * sign_data_grad\n",
    "        \n",
    "        # Note: Adding clipping to maintain [0,1] range  \n",
    "        perturbed_data.clamp_(0.0, 1.0)  \n",
    "        \n",
    "        #****** Train model with perturbed_data  *********\n",
    "        optimizer.zero_grad()\n",
    "        pert_output = model(perturbed_data)\n",
    "        pert_loss = criterion(pert_output, target)\n",
    "        pert_loss.backward()  \n",
    "        optimizer.step()   \n",
    "        \n",
    "        if batch_idx % 100 == 0:\n",
    "            print('Train Epoch: {} [{}/{} ({:.0f}%)]\\tLoss: {:.6f}'.format(\n",
    "                epoch, batch_idx * len(data), len(train_loader.dataset),\n",
    "                100. * batch_idx / len(train_loader), pert_loss.item()))\n",
    "        "
   ]
  },
  {
   "cell_type": "code",
   "execution_count": 21,
   "metadata": {},
   "outputs": [],
   "source": [
    "def adv_main(save_name='./data/fgsm_adv_mnist_cnn.pt'):\n",
    "    train_loader, test_loader = dataset_mnist()\n",
    "    # Initialize the network\n",
    "    model = resnet.ResNet18().to(device)\n",
    "    \n",
    "    # Define the optimizer\n",
    "    optimizer = optim.SGD(model.parameters(), lr=0.01, momentum=0.9)\n",
    "    criterion = nn.CrossEntropyLoss()\n",
    "    \n",
    "    for epoch in range(1, epochs+1):\n",
    "        fgsm_train(model, device, train_loader, optimizer,criterion, epoch)\n",
    "        test(model, device, criterion, test_loader)\n",
    "    \n",
    "    # Save model\n",
    "    torch.save(model.state_dict(), save_name)\n",
    "    print('Model saved.')"
   ]
  },
  {
   "cell_type": "markdown",
   "metadata": {},
   "source": [
    "<p style=\"color:red; font-weight:700; font-size: 20px;\">Call the `adv_main` function to get a robust model.</p>"
   ]
  },
  {
   "cell_type": "code",
   "execution_count": 22,
   "metadata": {},
   "outputs": [
    {
     "name": "stdout",
     "output_type": "stream",
     "text": [
      "Train Epoch: 1 [0/10000 (0%)]\tLoss: 3.282897\n",
      "Train Epoch: 1 [3200/10000 (32%)]\tLoss: 0.967049\n",
      "Train Epoch: 1 [6400/10000 (64%)]\tLoss: 0.502588\n",
      "Train Epoch: 1 [9600/10000 (96%)]\tLoss: 0.469686\n",
      "\n",
      "Test set: Average loss: 0.1087, Accuracy: 9685/10000 (97%)\n",
      "\n",
      "Train Epoch: 2 [0/10000 (0%)]\tLoss: 0.478056\n",
      "Train Epoch: 2 [3200/10000 (32%)]\tLoss: 0.629641\n",
      "Train Epoch: 2 [6400/10000 (64%)]\tLoss: 0.643577\n",
      "Train Epoch: 2 [9600/10000 (96%)]\tLoss: 0.254962\n",
      "\n",
      "Test set: Average loss: 0.0598, Accuracy: 9834/10000 (98%)\n",
      "\n",
      "Train Epoch: 3 [0/10000 (0%)]\tLoss: 0.192317\n",
      "Train Epoch: 3 [3200/10000 (32%)]\tLoss: 0.173916\n",
      "Train Epoch: 3 [6400/10000 (64%)]\tLoss: 0.194898\n",
      "Train Epoch: 3 [9600/10000 (96%)]\tLoss: 0.249246\n",
      "\n",
      "Test set: Average loss: 0.0378, Accuracy: 9893/10000 (99%)\n",
      "\n",
      "Model saved.\n"
     ]
    }
   ],
   "source": [
    "adv_resnet = './data/fgsm_adv_mnist_cnn.pt'\n",
    "adv_main(adv_resnet)"
   ]
  },
  {
   "cell_type": "markdown",
   "metadata": {},
   "source": [
    "<p style=\"color:red; font-weight:700; font-size: 20px;\">Repeat the test function and plot the figure of acc v.s. eps. and examples.</p>"
   ]
  },
  {
   "cell_type": "code",
   "execution_count": 23,
   "metadata": {},
   "outputs": [
    {
     "name": "stdout",
     "output_type": "stream",
     "text": [
      "Pretrained Model ./data/fgsm_adv_mnist_cnn.pt\n",
      "Epsilon: 0\tAccuracy: 9893/10000 (98.93%)\n",
      "Epsilon: 0.05\tAccuracy: 9855/10000 (98.55%)\n",
      "Epsilon: 0.15\tAccuracy: 9769/10000 (97.69%)\n",
      "Epsilon: 0.25\tAccuracy: 9487/10000 (94.87%)\n"
     ]
    }
   ],
   "source": [
    "re_accuracies, re_examples = attack_test(adv_resnet)\n",
    "# Epsilon    Accuracy\n",
    "#    0         ~raw  \n",
    "#   0.05       <= ~98%  \n",
    "#   0.15       <= ~98%  \n",
    "#   0.25       <= ~95%"
   ]
  },
  {
   "cell_type": "code",
   "execution_count": 24,
   "metadata": {},
   "outputs": [
    {
     "data": {
      "image/png": "[encoded data removed]",
      "text/plain": [
       "<Figure size 360x360 with 1 Axes>"
      ]
     },
     "metadata": {
      "needs_background": "light"
     },
     "output_type": "display_data"
    }
   ],
   "source": [
    "plt_acc_vs_eps(epsilons, re_accuracies)"
   ]
  },
  {
   "cell_type": "code",
   "execution_count": 25,
   "metadata": {},
   "outputs": [
    {
     "data": {
      "image/png": "[encoded data removed]",
      "text/plain": [
       "<Figure size 576x720 with 20 Axes>"
      ]
     },
     "metadata": {},
     "output_type": "display_data"
    }
   ],
   "source": [
    "plt_examples(epsilons, re_examples)"
   ]
  },
  {
   "cell_type": "code",
   "execution_count": 26,
   "metadata": {},
   "outputs": [],
   "source": [
    "def plt_comparion(epsilons, accs):\n",
    "    plt.figure(figsize=(5,5))\n",
    "    plt.plot(epsilons, accs[0], \"*-\")\n",
    "    plt.plot(epsilons, accs[1], \"*-\", c='red')\n",
    "    plt.yticks(np.arange(0, 1.1, step=0.1))\n",
    "    plt.xticks(np.arange(0, .35, step=0.05))\n",
    "    plt.title(\"Accuracy vs Epsilon\")\n",
    "    plt.xlabel(\"Epsilon\")\n",
    "    plt.ylabel(\"Accuracy\")\n",
    "    plt.show()"
   ]
  },
  {
   "cell_type": "code",
   "execution_count": 27,
   "metadata": {},
   "outputs": [
    {
     "name": "stdout",
     "output_type": "stream",
     "text": [
      "Blue: Raw ResNet under white-box attack.\n",
      "Red : Robust ResNet under white-box attack.\n"
     ]
    },
    {
     "data": {
      "image/png": "[encoded data removed]",
      "text/plain": [
       "<Figure size 360x360 with 1 Axes>"
      ]
     },
     "metadata": {
      "needs_background": "light"
     },
     "output_type": "display_data"
    }
   ],
   "source": [
    "print('Blue: Raw ResNet under white-box attack.')\n",
    "print('Red : Robust ResNet under white-box attack.')\n",
    "plt_comparion(epsilons, [accuracies, re_accuracies])"
   ]
  },
  {
   "cell_type": "markdown",
   "metadata": {},
   "source": [
    "## Asignment  \n",
    "\n",
    "Try black-box attack using FGSM and test the robustness of adversarilly trained model.    \n",
    "\n",
    "**Hints**:  \n",
    "We've prepared the attack model——LeNet with the pretrained weight saved at 'data/minist_lenet.pt'.  \n",
    "\n",
    "You need to finish the `black_box_attack` method and make some tests."
   ]
  },
  {
   "cell_type": "code",
   "execution_count": 28,
   "metadata": {},
   "outputs": [],
   "source": [
    "pretrained_lenet = 'data/mnist_lenet.pt'  # the attack model  "
   ]
  },
  {
   "cell_type": "code",
   "execution_count": 29,
   "metadata": {},
   "outputs": [],
   "source": [
    "# LeNet Model definition  \n",
    "class LeNet(nn.Module):\n",
    "    def __init__(self):  \n",
    "        super(LeNet, self).__init__()\n",
    "        self.conv1 = nn.Conv2d(1, 10, kernel_size=5)\n",
    "        self.conv2 = nn.Conv2d(10, 20, kernel_size=5)\n",
    "        self.conv2_drop = nn.Dropout2d()\n",
    "        self.fc1 = nn.Linear(320, 50)\n",
    "        self.fc2 = nn.Linear(50, 10)\n",
    "    \n",
    "    def forward(self, x):\n",
    "        x = F.relu(F.max_pool2d(self.conv1(x), 2))\n",
    "        x = F.relu(F.max_pool2d(self.conv2_drop(self.conv2(x)), 2))\n",
    "        x = x.view(-1, 320)\n",
    "        x = F.relu(self.fc1(x))\n",
    "        x = F.dropout(x, training=self.training)\n",
    "        x = self.fc2(x)\n",
    "        return F.log_softmax(x, dim=1)  "
   ]
  },
  {
   "cell_type": "code",
   "execution_count": 35,
   "metadata": {},
   "outputs": [
    {
     "name": "stdout",
     "output_type": "stream",
     "text": [
      "Train Epoch: 1 [0/10000 (0%)]\tLoss: 2.305712\n",
      "Train Epoch: 1 [3200/10000 (32%)]\tLoss: 2.085117\n",
      "Train Epoch: 1 [6400/10000 (64%)]\tLoss: 0.930041\n",
      "Train Epoch: 1 [9600/10000 (96%)]\tLoss: 0.734410\n",
      "\n",
      "Test set: Average loss: 0.3706, Accuracy: 8841/10000 (88%)\n",
      "\n",
      "Train Epoch: 2 [0/10000 (0%)]\tLoss: 1.259862\n",
      "Train Epoch: 2 [3200/10000 (32%)]\tLoss: 0.251362\n",
      "Train Epoch: 2 [6400/10000 (64%)]\tLoss: 0.696491\n",
      "Train Epoch: 2 [9600/10000 (96%)]\tLoss: 0.746727\n",
      "\n",
      "Test set: Average loss: 0.1941, Accuracy: 9447/10000 (94%)\n",
      "\n",
      "Train Epoch: 3 [0/10000 (0%)]\tLoss: 0.500566\n",
      "Train Epoch: 3 [3200/10000 (32%)]\tLoss: 0.299246\n",
      "Train Epoch: 3 [6400/10000 (64%)]\tLoss: 0.219294\n",
      "Train Epoch: 3 [9600/10000 (96%)]\tLoss: 0.623386\n",
      "\n",
      "Test set: Average loss: 0.1331, Accuracy: 9613/10000 (96%)\n",
      "\n",
      "Model saved.\n"
     ]
    }
   ],
   "source": [
    "def raw_train_lenet(save_name='./data/mnist_lenet.pt'):\n",
    "    '''\n",
    "    Main function to train and save the model under atttack.\n",
    "    \n",
    "    params:\n",
    "        save_name: The model to be saved.\n",
    "    '''\n",
    "    train_loader, test_loader = dataset_mnist()\n",
    "    # Initialize the network\n",
    "    model = LeNet().to(device)\n",
    "    \n",
    "    # Define the optimizer\n",
    "    optimizer = optim.SGD(model.parameters(), lr=0.01, momentum=0.9, weight_decay=5e-4)\n",
    "    \n",
    "    # Define the criterion \n",
    "    criterion = nn.CrossEntropyLoss()\n",
    "    \n",
    "    for epoch in range(1, epochs+1):\n",
    "        train(model, device, train_loader, optimizer, criterion, epoch)\n",
    "        test(model, device, criterion, test_loader)\n",
    "    \n",
    "    # Save model\n",
    "    torch.save(model.state_dict(), save_name)\n",
    "    print('Model saved.')\n",
    "    \n",
    "# Uncomment the next line to train a new LeNet on yourself. The accuracy is about 97%.\n",
    "raw_train_lenet()\n",
    "# Pay attentation to the learning rate compared with that in resnet."
   ]
  },
  {
   "cell_type": "markdown",
   "metadata": {},
   "source": [
    "<p style=\"color:red; font-weight:700; font-size: 20px;\">Please finish the `black_box_attack` method.</p>  \n",
    "\n",
    "**Hints:**  \n",
    "\n",
    "You need to generate adversarial examples by the attacking model(pretrained lenet), and then use the \n",
    "adversarial examples to test the robustness of the defending model (raw resnet or adversarially trained resnet).  \n"
   ]
  },
  {
   "cell_type": "code",
   "execution_count": 36,
   "metadata": {},
   "outputs": [],
   "source": [
    "def black_box_attack(attacker, defender, device, test_loader, epsilon):\n",
    "    '''\n",
    "    Use attacker model to generate adversarial examples. \n",
    "    And try to test the robustness of the defender.  \n",
    "    '''\n",
    "    # Accuracy counter\n",
    "    correct = 0\n",
    "    adv_examples = []\n",
    "\n",
    "    # Loop over all examples in test set\n",
    "    for data, target in test_loader:\n",
    "\n",
    "        # Send the data and label to the device\n",
    "        data, target = data.to(device), target.to(device)\n",
    "        # Set requires_grad attribute of tensor. Important for Attack\n",
    "        data.requires_grad = True\n",
    "\n",
    "        # Forward pass the data through the **attacker**\n",
    "        \n",
    "        \n",
    "        # ********* Code here ****************\n",
    "        output = attacker(data) # attacker or defender\n",
    "        \n",
    "        \n",
    "        init_pred = output.max(1, keepdim=True)[1] # get the index of the max log-probability\n",
    "\n",
    "        # If the initial prediction is wrong, dont bother attacking, just move on\n",
    "        if init_pred.item() != target.item():\n",
    "            continue\n",
    "\n",
    "        # Calculate the loss\n",
    "        loss = F.nll_loss(output, target)\n",
    "\n",
    "        # Zero all existing gradients of the attacker model\n",
    "        attacker.zero_grad()\n",
    "\n",
    "        # Calculate gradients of model in backward pass\n",
    "        loss.backward()\n",
    "\n",
    "        # Collect datagrad\n",
    "        data_grad = data.grad.data\n",
    "\n",
    "        \n",
    "        # ********* Code here ****************\n",
    "        # Call FGSM Attack\n",
    "        perturbed_data = fgsm_attack(data, epsilon, data_grad)  # we already have data, epsilon and data_grad now.\n",
    "        \n",
    "        # Use the defender to classify the perturbed image \n",
    "        output = defender(perturbed_data) # attacker or defender ?\n",
    "\n",
    "        # Check for success\n",
    "        final_pred = output.max(1, keepdim=True)[1] # get the index of the max log-probability\n",
    "        if final_pred.item() == target.item():\n",
    "            correct += 1\n",
    "            # Special case for saving 0 epsilon examples\n",
    "            if (epsilon == 0) and (len(adv_examples) < 5):\n",
    "                adv_ex = perturbed_data.squeeze().detach().cpu().numpy()\n",
    "                adv_examples.append( (init_pred.item(), final_pred.item(), adv_ex) )\n",
    "        else:\n",
    "            # Save some adv examples for visualization later\n",
    "            if len(adv_examples) < 5:\n",
    "                adv_ex = perturbed_data.squeeze().detach().cpu().numpy()\n",
    "                adv_examples.append( (init_pred.item(), final_pred.item(), adv_ex) )\n",
    "\n",
    "    # Calculate final accuracy for this epsilon\n",
    "    final_acc = correct/float(len(test_loader))\n",
    "    print(\"Epsilon: {}\\tAccuracy: {}/{} ({:.2f}%)\".format(epsilon, correct, len(test_loader), 100.0 * final_acc))\n",
    "\n",
    "    # Return the accuracy and an adversarial example\n",
    "    return final_acc, adv_examples"
   ]
  },
  {
   "cell_type": "code",
   "execution_count": 37,
   "metadata": {},
   "outputs": [],
   "source": [
    "def black_box_attack_test(attacker_path, defender_path):\n",
    "    '''\n",
    "    \n",
    "    \n",
    "    '''\n",
    "    attacker = LeNet().to(device)\n",
    "    defender = resnet.ResNet18().to(device)\n",
    "    # Load the pretrained model\n",
    "    print('Pretrained Attack Model', attacker_path)\n",
    "    attacker.load_state_dict(torch.load(attacker_path, map_location='cpu'))\n",
    "    print('Pretrained Defend Model', defender_path)\n",
    "    defender.load_state_dict(torch.load(defender_path, map_location='cpu'))\n",
    "    # Set the model in evaluation mode. In this case this is for the Dropout layers\n",
    "    attacker.eval()\n",
    "    defender.eval() \n",
    "    \n",
    "    _, test_loader = dataset_mnist()\n",
    "    \n",
    "    accuracies = []\n",
    "    examples = []\n",
    "\n",
    "    # Run test for each epsilon\n",
    "    for eps in epsilons:\n",
    "        acc, ex = black_box_attack(attacker, defender, device, test_loader, eps)\n",
    "        accuracies.append(acc)\n",
    "        examples.append(ex)\n",
    "    return accuracies, examples"
   ]
  },
  {
   "cell_type": "code",
   "execution_count": 38,
   "metadata": {},
   "outputs": [],
   "source": [
    "pretrained_lenet = 'data/mnist_lenet.pt'  # the attack model  \n",
    "raw_resnet = 'data/mnist_resnet.pt'        # raw resnet  \n",
    "adv_resnet = 'data/fgsm_adv_mnist_cnn.pt'  # adversarially trained resnet"
   ]
  },
  {
   "cell_type": "markdown",
   "metadata": {},
   "source": [
    "<p style=\"color:red; font-weight:700; font-size: 20px;\">Please use the `black_box_attack_test` method to test the raw resnet model.</p>"
   ]
  },
  {
   "cell_type": "code",
   "execution_count": 39,
   "metadata": {},
   "outputs": [
    {
     "name": "stdout",
     "output_type": "stream",
     "text": [
      "Pretrained Attack Model data/mnist_lenet.pt\n",
      "Pretrained Defend Model data/mnist_resnet.pt\n",
      "Epsilon: 0\tAccuracy: 9554/10000 (95.54%)\n",
      "Epsilon: 0.05\tAccuracy: 9509/10000 (95.09%)\n",
      "Epsilon: 0.15\tAccuracy: 7501/10000 (75.01%)\n",
      "Epsilon: 0.25\tAccuracy: 2792/10000 (27.92%)\n"
     ]
    }
   ],
   "source": [
    "raw_accs, raw_exs = black_box_attack_test(pretrained_lenet, raw_resnet)"
   ]
  },
  {
   "cell_type": "markdown",
   "metadata": {},
   "source": [
    "<p style=\"color:red; font-weight:700; font-size: 20px;\">Please use the `black_box_attack_test` method to test the adversarially trained resnet.</p>"
   ]
  },
  {
   "cell_type": "code",
   "execution_count": 40,
   "metadata": {
    "scrolled": false
   },
   "outputs": [
    {
     "name": "stdout",
     "output_type": "stream",
     "text": [
      "Pretrained Attack Model data/mnist_lenet.pt\n",
      "Pretrained Defend Model data/fgsm_adv_mnist_cnn.pt\n",
      "Epsilon: 0\tAccuracy: 9577/10000 (95.77%)\n",
      "Epsilon: 0.05\tAccuracy: 9570/10000 (95.70%)\n",
      "Epsilon: 0.15\tAccuracy: 9549/10000 (95.49%)\n",
      "Epsilon: 0.25\tAccuracy: 9001/10000 (90.01%)\n"
     ]
    }
   ],
   "source": [
    "adv_accs, adv_exs = black_box_attack_test(pretrained_lenet, adv_resnet)"
   ]
  },
  {
   "cell_type": "code",
   "execution_count": 41,
   "metadata": {},
   "outputs": [
    {
     "name": "stdout",
     "output_type": "stream",
     "text": [
      "Blue: Raw ResNet attacked by LeNet.\n",
      "Red: Robust ResNet attacked by LeNet.\n"
     ]
    },
    {
     "data": {
      "image/png": "[encoded data removed]",
      "text/plain": [
       "<Figure size 360x360 with 1 Axes>"
      ]
     },
     "metadata": {
      "needs_background": "light"
     },
     "output_type": "display_data"
    }
   ],
   "source": [
    "print('Blue: Raw ResNet attacked by LeNet.')\n",
    "print('Red: Robust ResNet attacked by LeNet.')\n",
    "plt_comparion(epsilons, [raw_accs, adv_accs])"
   ]
  },
  {
   "cell_type": "code",
   "execution_count": null,
   "metadata": {},
   "outputs": [],
   "source": []
  }
 ],
 "metadata": {
  "kernelspec": {
   "display_name": "Python 3",
   "language": "python",
   "name": "python3"
  },
  "language_info": {
   "codemirror_mode": {
    "name": "ipython",
    "version": 3
   },
   "file_extension": ".py",
   "mimetype": "text/x-python",
   "name": "python",
   "nbconvert_exporter": "python",
   "pygments_lexer": "ipython3",
   "version": "3.7.1"
  }
 },
 "nbformat": 4,
 "nbformat_minor": 2
}
