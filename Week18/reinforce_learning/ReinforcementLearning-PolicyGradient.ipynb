{
 "cells": [
  {
   "cell_type": "markdown",
   "metadata": {},
   "source": [
    "# Reinforce Learning \n",
    "In this tutorials, we can learn a bit about how policy-gradient works. Policy gradient is a very important\n",
    "technique when dealing with undifferentiate operation, like sampling, which we often do in squence decision.\n",
    "This tutorial mainly refer to [Deep Reinforcement Learning: Pong from Pixels](Deep Reinforcement Learning: Pong from Pixels), and we would provide torch version later. Actually, it's easy to implement a pytorch version."
   ]
  },
  {
   "cell_type": "code",
   "execution_count": 6,
   "metadata": {
    "ExecuteTime": {
     "end_time": "2019-06-27T07:55:43.856011Z",
     "start_time": "2019-06-27T07:55:41.868205Z"
    },
    "scrolled": true
   },
   "outputs": [
    {
     "name": "stdout",
     "output_type": "stream",
     "text": [
      "Looking in indexes: https://mirrors.aliyun.com/pypi/simple\n",
      "Requirement already satisfied: gym in /home/lincolnzjx/anaconda3/envs/Py36/lib/python3.6/site-packages (0.13.0)\n",
      "Requirement already satisfied: numpy in /home/lincolnzjx/anaconda3/envs/Py36/lib/python3.6/site-packages (1.15.4)\n",
      "Requirement already satisfied: scipy in /home/lincolnzjx/anaconda3/envs/Py36/lib/python3.6/site-packages (from gym) (1.2.0)\n",
      "Requirement already satisfied: six in /home/lincolnzjx/anaconda3/envs/Py36/lib/python3.6/site-packages (from gym) (1.12.0)\n",
      "Requirement already satisfied: pyglet>=1.2.0 in /home/lincolnzjx/anaconda3/envs/Py36/lib/python3.6/site-packages (from gym) (1.3.2)\n",
      "Requirement already satisfied: cloudpickle~=1.2.0 in /home/lincolnzjx/anaconda3/envs/Py36/lib/python3.6/site-packages (from gym) (1.2.1)\n",
      "Requirement already satisfied: future in /home/lincolnzjx/anaconda3/envs/Py36/lib/python3.6/site-packages (from pyglet>=1.2.0->gym) (0.17.1)\n",
      "Looking in indexes: https://mirrors.aliyun.com/pypi/simple\n",
      "Requirement already satisfied: gym[atari] in /home/lincolnzjx/anaconda3/envs/Py36/lib/python3.6/site-packages (0.13.0)\n",
      "Requirement already satisfied: numpy>=1.10.4 in /home/lincolnzjx/anaconda3/envs/Py36/lib/python3.6/site-packages (from gym[atari]) (1.15.4)\n",
      "Requirement already satisfied: pyglet>=1.2.0 in /home/lincolnzjx/anaconda3/envs/Py36/lib/python3.6/site-packages (from gym[atari]) (1.3.2)\n",
      "Requirement already satisfied: six in /home/lincolnzjx/anaconda3/envs/Py36/lib/python3.6/site-packages (from gym[atari]) (1.12.0)\n",
      "Requirement already satisfied: scipy in /home/lincolnzjx/anaconda3/envs/Py36/lib/python3.6/site-packages (from gym[atari]) (1.2.0)\n",
      "Requirement already satisfied: cloudpickle~=1.2.0 in /home/lincolnzjx/anaconda3/envs/Py36/lib/python3.6/site-packages (from gym[atari]) (1.2.1)\n",
      "Requirement already satisfied: Pillow; extra == \"atari\" in /home/lincolnzjx/anaconda3/envs/Py36/lib/python3.6/site-packages (from gym[atari]) (5.3.0)\n",
      "Requirement already satisfied: atari-py~=0.2.0; extra == \"atari\" in /home/lincolnzjx/anaconda3/envs/Py36/lib/python3.6/site-packages (from gym[atari]) (0.2.0)\n",
      "Requirement already satisfied: opencv-python; extra == \"atari\" in /home/lincolnzjx/anaconda3/envs/Py36/lib/python3.6/site-packages (from gym[atari]) (4.0.0.21)\n",
      "Requirement already satisfied: future in /home/lincolnzjx/anaconda3/envs/Py36/lib/python3.6/site-packages (from pyglet>=1.2.0->gym[atari]) (0.17.1)\n"
     ]
    }
   ],
   "source": [
    "!pip install gym numpy\n",
    "!pip install gym[atari]"
   ]
  },
  {
   "cell_type": "code",
   "execution_count": 7,
   "metadata": {
    "ExecuteTime": {
     "end_time": "2019-06-27T07:55:43.866215Z",
     "start_time": "2019-06-27T07:55:43.857532Z"
    }
   },
   "outputs": [
    {
     "name": "stdout",
     "output_type": "stream",
     "text": [
      "The autoreload extension is already loaded. To reload it, use:\n",
      "  %reload_ext autoreload\n"
     ]
    }
   ],
   "source": [
    "%load_ext autoreload\n",
    "%autoreload 2\n",
    "\n",
    "import numpy as np\n",
    "import gym\n",
    "\n",
    "# All function related to training can be obtained here\n",
    "from main import train"
   ]
  },
  {
   "cell_type": "code",
   "execution_count": 8,
   "metadata": {
    "ExecuteTime": {
     "end_time": "2019-06-27T07:55:44.047903Z",
     "start_time": "2019-06-27T07:55:43.867342Z"
    },
    "scrolled": true
   },
   "outputs": [
    {
     "name": "stdout",
     "output_type": "stream",
     "text": [
      "(210, 160, 3)\n"
     ]
    }
   ],
   "source": [
    "# gym: Gym is a toolkit for developing and comparing reinforcement learning algorithms. \n",
    "env = gym.make(\"Pong-v0\")\n",
    "# The process gets started by calling reset(), which returns an initial observation\n",
    "observation = env.reset()\n",
    "# a single frame\n",
    "print(observation.shape)"
   ]
  },
  {
   "cell_type": "code",
   "execution_count": 9,
   "metadata": {
    "ExecuteTime": {
     "end_time": "2019-06-27T07:55:44.056503Z",
     "start_time": "2019-06-27T07:55:44.049349Z"
    }
   },
   "outputs": [],
   "source": [
    "# hyperparameters\n",
    "batch_size = 10\n",
    "learning_rate = 1e-4\n",
    "gamma = 0.99\n",
    "alpha = 0.99 # smooth constant\n",
    "render = False\n",
    "input_dim = 80 * 80\n",
    "hidden_dim = 200 # number of hidden layer neurons"
   ]
  },
  {
   "cell_type": "code",
   "execution_count": 10,
   "metadata": {
    "ExecuteTime": {
     "end_time": "2019-06-27T07:55:44.681583Z",
     "start_time": "2019-06-27T07:55:44.637741Z"
    }
   },
   "outputs": [],
   "source": [
    "# define a simple two-layer models, relu as the actionvation function for first layer\n",
    "# sigmoid before the final outputs\n",
    "model = {}\n",
    "model[\"W1\"] = np.random.randn(hidden_dim, input_dim)\n",
    "model[\"W2\"] = np.random.randn(hidden_dim)"
   ]
  },
  {
   "cell_type": "code",
   "execution_count": 11,
   "metadata": {
    "ExecuteTime": {
     "end_time": "2019-06-27T07:55:51.495665Z",
     "start_time": "2019-06-27T07:55:45.595684Z"
    },
    "scrolled": true
   },
   "outputs": [
    {
     "name": "stdout",
     "output_type": "stream",
     "text": [
      "ep 0: game finished, reward: -1.000000\n",
      "ep 0: game finished, reward: -1.000000\n",
      "ep 0: game finished, reward: -1.000000\n",
      "ep 0: game finished, reward: -1.000000\n",
      "ep 0: game finished, reward: -1.000000\n",
      "ep 0: game finished, reward: -1.000000\n",
      "ep 0: game finished, reward: -1.000000\n",
      "ep 0: game finished, reward: -1.000000\n",
      "ep 0: game finished, reward: -1.000000\n",
      "ep 0: game finished, reward: -1.000000\n",
      "ep 0: game finished, reward: -1.000000\n",
      "ep 0: game finished, reward: -1.000000\n",
      "ep 0: game finished, reward: -1.000000\n",
      "ep 0: game finished, reward: -1.000000\n",
      "ep 0: game finished, reward: -1.000000\n",
      "ep 0: game finished, reward: -1.000000\n",
      "ep 0: game finished, reward: -1.000000\n",
      "ep 0: game finished, reward: -1.000000\n",
      "ep 0: game finished, reward: -1.000000\n",
      "ep 0: game finished, reward: -1.000000\n",
      "resetting env. episode reward total was -21.000000.                    running mean: -21.000000\n",
      "ep 1: game finished, reward: -1.000000\n",
      "ep 1: game finished, reward: -1.000000\n",
      "ep 1: game finished, reward: -1.000000\n",
      "ep 1: game finished, reward: -1.000000\n",
      "ep 1: game finished, reward: -1.000000\n",
      "ep 1: game finished, reward: -1.000000\n",
      "ep 1: game finished, reward: -1.000000\n",
      "ep 1: game finished, reward: -1.000000\n",
      "ep 1: game finished, reward: -1.000000\n",
      "ep 1: game finished, reward: -1.000000\n",
      "ep 1: game finished, reward: -1.000000\n",
      "ep 1: game finished, reward: -1.000000\n",
      "ep 1: game finished, reward: -1.000000\n",
      "ep 1: game finished, reward: -1.000000\n",
      "ep 1: game finished, reward: -1.000000\n",
      "ep 1: game finished, reward: -1.000000\n",
      "ep 1: game finished, reward: -1.000000\n",
      "ep 1: game finished, reward: -1.000000\n",
      "ep 1: game finished, reward: -1.000000\n",
      "ep 1: game finished, reward: -1.000000\n",
      "ep 1: game finished, reward: -1.000000\n",
      "resetting env. episode reward total was -21.000000.                    running mean: -41.780000\n",
      "ep 2: game finished, reward: -1.000000\n",
      "ep 2: game finished, reward: -1.000000\n",
      "ep 2: game finished, reward: -1.000000\n",
      "ep 2: game finished, reward: -1.000000\n",
      "ep 2: game finished, reward: -1.000000\n",
      "ep 2: game finished, reward: -1.000000\n",
      "ep 2: game finished, reward: -1.000000\n",
      "ep 2: game finished, reward: -1.000000\n",
      "ep 2: game finished, reward: -1.000000\n",
      "ep 2: game finished, reward: -1.000000\n",
      "ep 2: game finished, reward: -1.000000\n",
      "ep 2: game finished, reward: -1.000000\n",
      "ep 2: game finished, reward: -1.000000\n",
      "ep 2: game finished, reward: -1.000000\n",
      "ep 2: game finished, reward: -1.000000\n",
      "ep 2: game finished, reward: -1.000000\n",
      "ep 2: game finished, reward: -1.000000\n",
      "ep 2: game finished, reward: -1.000000\n",
      "ep 2: game finished, reward: -1.000000\n",
      "ep 2: game finished, reward: -1.000000\n",
      "ep 2: game finished, reward: -1.000000\n",
      "resetting env. episode reward total was -21.000000.                    running mean: -62.352200\n",
      "ep 3: game finished, reward: -1.000000\n",
      "ep 3: game finished, reward: -1.000000\n",
      "ep 3: game finished, reward: -1.000000\n",
      "ep 3: game finished, reward: -1.000000\n",
      "ep 3: game finished, reward: -1.000000\n",
      "ep 3: game finished, reward: -1.000000\n",
      "ep 3: game finished, reward: -1.000000\n",
      "ep 3: game finished, reward: -1.000000\n",
      "ep 3: game finished, reward: -1.000000\n",
      "ep 3: game finished, reward: -1.000000\n",
      "ep 3: game finished, reward: -1.000000\n",
      "ep 3: game finished, reward: -1.000000\n",
      "ep 3: game finished, reward: -1.000000\n",
      "ep 3: game finished, reward: -1.000000\n",
      "ep 3: game finished, reward: -1.000000\n",
      "ep 3: game finished, reward: -1.000000\n",
      "ep 3: game finished, reward: -1.000000\n",
      "ep 3: game finished, reward: -1.000000\n",
      "ep 3: game finished, reward: -1.000000\n",
      "ep 3: game finished, reward: -1.000000\n",
      "ep 3: game finished, reward: -1.000000\n",
      "resetting env. episode reward total was -21.000000.                    running mean: -82.718678\n",
      "ep 4: game finished, reward: -1.000000\n",
      "ep 4: game finished, reward: -1.000000\n",
      "ep 4: game finished, reward: -1.000000\n",
      "ep 4: game finished, reward: -1.000000\n",
      "ep 4: game finished, reward: -1.000000\n",
      "ep 4: game finished, reward: -1.000000\n",
      "ep 4: game finished, reward: -1.000000\n",
      "ep 4: game finished, reward: -1.000000\n",
      "ep 4: game finished, reward: -1.000000\n",
      "ep 4: game finished, reward: -1.000000\n",
      "ep 4: game finished, reward: -1.000000\n",
      "ep 4: game finished, reward: -1.000000\n",
      "ep 4: game finished, reward: -1.000000\n",
      "ep 4: game finished, reward: -1.000000\n",
      "ep 4: game finished, reward: -1.000000\n",
      "ep 4: game finished, reward: -1.000000\n",
      "ep 4: game finished, reward: -1.000000\n",
      "ep 4: game finished, reward: -1.000000\n",
      "ep 4: game finished, reward: -1.000000\n",
      "ep 4: game finished, reward: -1.000000\n",
      "ep 4: game finished, reward: -1.000000\n",
      "resetting env. episode reward total was -21.000000.                    running mean: -102.881491\n",
      "ep 5: game finished, reward: -1.000000\n",
      "ep 5: game finished, reward: -1.000000\n",
      "ep 5: game finished, reward: -1.000000\n",
      "ep 5: game finished, reward: -1.000000\n",
      "ep 5: game finished, reward: -1.000000\n",
      "ep 5: game finished, reward: -1.000000\n",
      "ep 5: game finished, reward: -1.000000\n",
      "ep 5: game finished, reward: -1.000000\n",
      "ep 5: game finished, reward: -1.000000\n",
      "ep 5: game finished, reward: -1.000000\n",
      "ep 5: game finished, reward: -1.000000\n",
      "ep 5: game finished, reward: -1.000000\n",
      "ep 5: game finished, reward: -1.000000\n",
      "ep 5: game finished, reward: -1.000000\n",
      "ep 5: game finished, reward: -1.000000\n",
      "ep 5: game finished, reward: -1.000000\n",
      "ep 5: game finished, reward: -1.000000\n",
      "ep 5: game finished, reward: -1.000000\n",
      "ep 5: game finished, reward: -1.000000\n",
      "ep 5: game finished, reward: -1.000000\n",
      "ep 5: game finished, reward: -1.000000\n",
      "resetting env. episode reward total was -21.000000.                    running mean: -122.842676\n",
      "ep 6: game finished, reward: -1.000000\n",
      "ep 6: game finished, reward: -1.000000\n",
      "ep 6: game finished, reward: -1.000000\n",
      "ep 6: game finished, reward: -1.000000\n",
      "ep 6: game finished, reward: -1.000000\n",
      "ep 6: game finished, reward: -1.000000\n",
      "ep 6: game finished, reward: -1.000000\n",
      "ep 6: game finished, reward: -1.000000\n",
      "ep 6: game finished, reward: -1.000000\n",
      "ep 6: game finished, reward: -1.000000\n",
      "ep 6: game finished, reward: -1.000000\n",
      "ep 6: game finished, reward: -1.000000\n",
      "ep 6: game finished, reward: -1.000000\n",
      "ep 6: game finished, reward: -1.000000\n",
      "ep 6: game finished, reward: -1.000000\n",
      "ep 6: game finished, reward: -1.000000\n",
      "ep 6: game finished, reward: -1.000000\n",
      "ep 6: game finished, reward: -1.000000\n",
      "ep 6: game finished, reward: -1.000000\n",
      "ep 6: game finished, reward: -1.000000\n",
      "ep 6: game finished, reward: -1.000000\n",
      "resetting env. episode reward total was -21.000000.                    running mean: -142.604250\n",
      "ep 7: game finished, reward: -1.000000\n",
      "ep 7: game finished, reward: -1.000000\n",
      "ep 7: game finished, reward: -1.000000\n",
      "ep 7: game finished, reward: -1.000000\n",
      "ep 7: game finished, reward: -1.000000\n",
      "ep 7: game finished, reward: -1.000000\n",
      "ep 7: game finished, reward: -1.000000\n",
      "ep 7: game finished, reward: -1.000000\n",
      "ep 7: game finished, reward: -1.000000\n",
      "ep 7: game finished, reward: -1.000000\n",
      "ep 7: game finished, reward: -1.000000\n",
      "ep 7: game finished, reward: -1.000000\n",
      "ep 7: game finished, reward: -1.000000\n",
      "ep 7: game finished, reward: -1.000000\n"
     ]
    },
    {
     "ename": "KeyboardInterrupt",
     "evalue": "",
     "output_type": "error",
     "traceback": [
      "\u001b[0;31m---------------------------------------------------------------------------\u001b[0m",
      "\u001b[0;31mKeyboardInterrupt\u001b[0m                         Traceback (most recent call last)",
      "\u001b[0;32m<ipython-input-11-61708027e41d>\u001b[0m in \u001b[0;36m<module>\u001b[0;34m\u001b[0m\n\u001b[1;32m      2\u001b[0m train(model=model, env=env, input_dim=input_dim, \n\u001b[1;32m      3\u001b[0m       \u001b[0mbatch_size\u001b[0m\u001b[0;34m=\u001b[0m\u001b[0mbatch_size\u001b[0m\u001b[0;34m,\u001b[0m \u001b[0malpha\u001b[0m\u001b[0;34m=\u001b[0m\u001b[0malpha\u001b[0m\u001b[0;34m,\u001b[0m \u001b[0mgamma\u001b[0m\u001b[0;34m=\u001b[0m\u001b[0mgamma\u001b[0m\u001b[0;34m,\u001b[0m\u001b[0;34m\u001b[0m\u001b[0;34m\u001b[0m\u001b[0m\n\u001b[0;32m----> 4\u001b[0;31m       learning_rate=learning_rate, render=render)\n\u001b[0m",
      "\u001b[0;32m~/Desktop/unsupervised_captioning_pytorch/tmp/main.py\u001b[0m in \u001b[0;36mtrain\u001b[0;34m(model, env, input_dim, batch_size, alpha, gamma, learning_rate, render)\u001b[0m\n\u001b[1;32m    109\u001b[0m \u001b[0;34m\u001b[0m\u001b[0m\n\u001b[1;32m    110\u001b[0m         \u001b[0;31m# step the environment and get new measurement\u001b[0m\u001b[0;34m\u001b[0m\u001b[0;34m\u001b[0m\u001b[0;34m\u001b[0m\u001b[0m\n\u001b[0;32m--> 111\u001b[0;31m         \u001b[0mobservation\u001b[0m\u001b[0;34m,\u001b[0m \u001b[0mreward\u001b[0m\u001b[0;34m,\u001b[0m \u001b[0mdone\u001b[0m\u001b[0;34m,\u001b[0m \u001b[0minfo\u001b[0m \u001b[0;34m=\u001b[0m \u001b[0menv\u001b[0m\u001b[0;34m.\u001b[0m\u001b[0mstep\u001b[0m\u001b[0;34m(\u001b[0m\u001b[0maction\u001b[0m\u001b[0;34m)\u001b[0m\u001b[0;34m\u001b[0m\u001b[0;34m\u001b[0m\u001b[0m\n\u001b[0m\u001b[1;32m    112\u001b[0m \u001b[0;34m\u001b[0m\u001b[0m\n\u001b[1;32m    113\u001b[0m         \u001b[0;31m# record reward ( has to be done after we call step() to get reward\u001b[0m\u001b[0;34m\u001b[0m\u001b[0;34m\u001b[0m\u001b[0;34m\u001b[0m\u001b[0m\n",
      "\u001b[0;32m~/anaconda3/envs/Py36/lib/python3.6/site-packages/gym/wrappers/time_limit.py\u001b[0m in \u001b[0;36mstep\u001b[0;34m(self, action)\u001b[0m\n\u001b[1;32m     13\u001b[0m     \u001b[0;32mdef\u001b[0m \u001b[0mstep\u001b[0m\u001b[0;34m(\u001b[0m\u001b[0mself\u001b[0m\u001b[0;34m,\u001b[0m \u001b[0maction\u001b[0m\u001b[0;34m)\u001b[0m\u001b[0;34m:\u001b[0m\u001b[0;34m\u001b[0m\u001b[0;34m\u001b[0m\u001b[0m\n\u001b[1;32m     14\u001b[0m         \u001b[0;32massert\u001b[0m \u001b[0mself\u001b[0m\u001b[0;34m.\u001b[0m\u001b[0m_elapsed_steps\u001b[0m \u001b[0;32mis\u001b[0m \u001b[0;32mnot\u001b[0m \u001b[0;32mNone\u001b[0m\u001b[0;34m,\u001b[0m \u001b[0;34m\"Cannot call env.step() before calling reset()\"\u001b[0m\u001b[0;34m\u001b[0m\u001b[0;34m\u001b[0m\u001b[0m\n\u001b[0;32m---> 15\u001b[0;31m         \u001b[0mobservation\u001b[0m\u001b[0;34m,\u001b[0m \u001b[0mreward\u001b[0m\u001b[0;34m,\u001b[0m \u001b[0mdone\u001b[0m\u001b[0;34m,\u001b[0m \u001b[0minfo\u001b[0m \u001b[0;34m=\u001b[0m \u001b[0mself\u001b[0m\u001b[0;34m.\u001b[0m\u001b[0menv\u001b[0m\u001b[0;34m.\u001b[0m\u001b[0mstep\u001b[0m\u001b[0;34m(\u001b[0m\u001b[0maction\u001b[0m\u001b[0;34m)\u001b[0m\u001b[0;34m\u001b[0m\u001b[0;34m\u001b[0m\u001b[0m\n\u001b[0m\u001b[1;32m     16\u001b[0m         \u001b[0mself\u001b[0m\u001b[0;34m.\u001b[0m\u001b[0m_elapsed_steps\u001b[0m \u001b[0;34m+=\u001b[0m \u001b[0;36m1\u001b[0m\u001b[0;34m\u001b[0m\u001b[0;34m\u001b[0m\u001b[0m\n\u001b[1;32m     17\u001b[0m         \u001b[0;32mif\u001b[0m \u001b[0mself\u001b[0m\u001b[0;34m.\u001b[0m\u001b[0m_elapsed_steps\u001b[0m \u001b[0;34m>=\u001b[0m \u001b[0mself\u001b[0m\u001b[0;34m.\u001b[0m\u001b[0m_max_episode_steps\u001b[0m\u001b[0;34m:\u001b[0m\u001b[0;34m\u001b[0m\u001b[0;34m\u001b[0m\u001b[0m\n",
      "\u001b[0;32m~/anaconda3/envs/Py36/lib/python3.6/site-packages/gym/envs/atari/atari_env.py\u001b[0m in \u001b[0;36mstep\u001b[0;34m(self, a)\u001b[0m\n\u001b[1;32m    115\u001b[0m             \u001b[0mnum_steps\u001b[0m \u001b[0;34m=\u001b[0m \u001b[0mself\u001b[0m\u001b[0;34m.\u001b[0m\u001b[0mnp_random\u001b[0m\u001b[0;34m.\u001b[0m\u001b[0mrandint\u001b[0m\u001b[0;34m(\u001b[0m\u001b[0mself\u001b[0m\u001b[0;34m.\u001b[0m\u001b[0mframeskip\u001b[0m\u001b[0;34m[\u001b[0m\u001b[0;36m0\u001b[0m\u001b[0;34m]\u001b[0m\u001b[0;34m,\u001b[0m \u001b[0mself\u001b[0m\u001b[0;34m.\u001b[0m\u001b[0mframeskip\u001b[0m\u001b[0;34m[\u001b[0m\u001b[0;36m1\u001b[0m\u001b[0;34m]\u001b[0m\u001b[0;34m)\u001b[0m\u001b[0;34m\u001b[0m\u001b[0;34m\u001b[0m\u001b[0m\n\u001b[1;32m    116\u001b[0m         \u001b[0;32mfor\u001b[0m \u001b[0m_\u001b[0m \u001b[0;32min\u001b[0m \u001b[0mrange\u001b[0m\u001b[0;34m(\u001b[0m\u001b[0mnum_steps\u001b[0m\u001b[0;34m)\u001b[0m\u001b[0;34m:\u001b[0m\u001b[0;34m\u001b[0m\u001b[0;34m\u001b[0m\u001b[0m\n\u001b[0;32m--> 117\u001b[0;31m             \u001b[0mreward\u001b[0m \u001b[0;34m+=\u001b[0m \u001b[0mself\u001b[0m\u001b[0;34m.\u001b[0m\u001b[0male\u001b[0m\u001b[0;34m.\u001b[0m\u001b[0mact\u001b[0m\u001b[0;34m(\u001b[0m\u001b[0maction\u001b[0m\u001b[0;34m)\u001b[0m\u001b[0;34m\u001b[0m\u001b[0;34m\u001b[0m\u001b[0m\n\u001b[0m\u001b[1;32m    118\u001b[0m         \u001b[0mob\u001b[0m \u001b[0;34m=\u001b[0m \u001b[0mself\u001b[0m\u001b[0;34m.\u001b[0m\u001b[0m_get_obs\u001b[0m\u001b[0;34m(\u001b[0m\u001b[0;34m)\u001b[0m\u001b[0;34m\u001b[0m\u001b[0;34m\u001b[0m\u001b[0m\n\u001b[1;32m    119\u001b[0m \u001b[0;34m\u001b[0m\u001b[0m\n",
      "\u001b[0;32m~/anaconda3/envs/Py36/lib/python3.6/site-packages/atari_py/ale_python_interface.py\u001b[0m in \u001b[0;36mact\u001b[0;34m(self, action)\u001b[0m\n\u001b[1;32m    150\u001b[0m \u001b[0;34m\u001b[0m\u001b[0m\n\u001b[1;32m    151\u001b[0m     \u001b[0;32mdef\u001b[0m \u001b[0mact\u001b[0m\u001b[0;34m(\u001b[0m\u001b[0mself\u001b[0m\u001b[0;34m,\u001b[0m \u001b[0maction\u001b[0m\u001b[0;34m)\u001b[0m\u001b[0;34m:\u001b[0m\u001b[0;34m\u001b[0m\u001b[0;34m\u001b[0m\u001b[0m\n\u001b[0;32m--> 152\u001b[0;31m         \u001b[0;32mreturn\u001b[0m \u001b[0male_lib\u001b[0m\u001b[0;34m.\u001b[0m\u001b[0mact\u001b[0m\u001b[0;34m(\u001b[0m\u001b[0mself\u001b[0m\u001b[0;34m.\u001b[0m\u001b[0mobj\u001b[0m\u001b[0;34m,\u001b[0m \u001b[0mint\u001b[0m\u001b[0;34m(\u001b[0m\u001b[0maction\u001b[0m\u001b[0;34m)\u001b[0m\u001b[0;34m)\u001b[0m\u001b[0;34m\u001b[0m\u001b[0;34m\u001b[0m\u001b[0m\n\u001b[0m\u001b[1;32m    153\u001b[0m \u001b[0;34m\u001b[0m\u001b[0m\n\u001b[1;32m    154\u001b[0m     \u001b[0;32mdef\u001b[0m \u001b[0mgame_over\u001b[0m\u001b[0;34m(\u001b[0m\u001b[0mself\u001b[0m\u001b[0;34m)\u001b[0m\u001b[0;34m:\u001b[0m\u001b[0;34m\u001b[0m\u001b[0;34m\u001b[0m\u001b[0m\n",
      "\u001b[0;31mKeyboardInterrupt\u001b[0m: "
     ]
    }
   ],
   "source": [
    "# More detail can be found in main.py file\n",
    "train(model=model, env=env, input_dim=input_dim, \n",
    "      batch_size=batch_size, alpha=alpha, gamma=gamma, \n",
    "      learning_rate=learning_rate, render=render)"
   ]
  },
  {
   "cell_type": "code",
   "execution_count": null,
   "metadata": {},
   "outputs": [],
   "source": []
  },
  {
   "cell_type": "code",
   "execution_count": null,
   "metadata": {},
   "outputs": [],
   "source": []
  }
 ],
 "metadata": {
  "kernelspec": {
   "display_name": "Python 3",
   "language": "python",
   "name": "python3"
  },
  "language_info": {
   "codemirror_mode": {
    "name": "ipython",
    "version": 3
   },
   "file_extension": ".py",
   "mimetype": "text/x-python",
   "name": "python",
   "nbconvert_exporter": "python",
   "pygments_lexer": "ipython3",
   "version": "3.6.8"
  }
 },
 "nbformat": 4,
 "nbformat_minor": 2
}
